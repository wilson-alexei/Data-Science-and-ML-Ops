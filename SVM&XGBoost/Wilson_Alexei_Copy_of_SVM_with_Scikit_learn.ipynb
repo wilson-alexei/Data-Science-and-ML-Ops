{
  "nbformat": 4,
  "nbformat_minor": 0,
  "metadata": {
    "kernelspec": {
      "display_name": "Python 3",
      "language": "python",
      "name": "python3"
    },
    "language_info": {
      "codemirror_mode": {
        "name": "ipython",
        "version": 3
      },
      "file_extension": ".py",
      "mimetype": "text/x-python",
      "name": "python",
      "nbconvert_exporter": "python",
      "pygments_lexer": "ipython3",
      "version": "3.7.5"
    },
    "colab": {
      "provenance": [],
      "toc_visible": true
    }
  },
  "cells": [
    {
      "cell_type": "markdown",
      "metadata": {
        "id": "bN211ryut-s5"
      },
      "source": [
        "# Support Vector Machines with Scikit-learn\n",
        "\n",
        "In this tutorial, you'll learn about Support Vector Machines (SVMs), one of the most popular and widely used supervised machine learning algorithms.\n",
        "SVM offers very high accuracy compared to other classifiers such as logistic regression, and decision trees. It is known for its kernel trick to handle **nonlinear** input spaces. It is used in a variety of applications such as face detection, intrusion detection, classification of emails, news articles and web pages, classification of genes, and handwriting recognition.\n",
        "\n",
        "In this tutorial, you will be using scikit-learn in Python.\n",
        "\n",
        "SVM is an exciting algorithm and the concepts are relatively simple. The classifier separates data points using a hyperplane with the largest amount of margin. That's why an SVM classifier is also known as a discriminative classifier. SVM finds an optimal hyperplane which helps in classifying new data points.\n",
        "\n",
        "In this tutorial, you are going to cover following topics:\n",
        "\n",
        "- Support Vector Machines\n",
        "- How does it work?\n",
        "- Kernels\n",
        "- Classifier building in Scikit-learn\n",
        "- Tuning Hyperparameters\n",
        "- Advantages and Disadvantages"
      ]
    },
    {
      "cell_type": "markdown",
      "metadata": {
        "id": "VlI4LZqWt-s6"
      },
      "source": [
        "## Support Vector Machines\n",
        "Generally, Support Vector Machines is considered to be a classification approach, it but can be employed in both types of classification and regression problems. It can easily handle multiple continuous and categorical variables. SVM constructs a hyperplane in multidimensional space to separate different classes. SVM generates optimal hyperplane in an iterative manner, which is used to minimize an error. The core idea of SVM is to find a maximum marginal hyperplane(MMH) that best divides the dataset into classes.\n",
        "<img src = 'http://res.cloudinary.com/dyd911kmh/image/upload/f_auto,q_auto:best/v1526288453/index3_souoaz.png'/>\n",
        "\n",
        "#### Support Vectors\n",
        "Support vectors are the data points being **closest** to the hyperplane. These points will define the separating line better by calculating **margins**. These points are more relevant to the construction of the classifier.\n",
        "\n",
        "#### Hyperplane\n",
        "A hyperplane is a decision plane which separates between a set of objects having different class memberships.\n",
        "\n",
        "#### Margin\n",
        "A margin is a gap between the two lines on the closest class points. This is calculated as the perpendicular distance from the line to support vectors or closest points. If the margin is larger in between the classes, then it is considered a good margin, a smaller margin is a bad margin."
      ]
    },
    {
      "cell_type": "markdown",
      "metadata": {
        "id": "mdBPUQX_t-s6"
      },
      "source": [
        "## How does SVM work?\n",
        "The main objective is to **segregate** the given dataset in the best possible way. The distance between the either nearest points is known as the **margin**. The objective is to select a hyperplane with the maximum possible margin between support vectors in the given dataset. SVM searches for the maximum marginal hyperplane in the following steps:\n",
        "\n",
        "1. Generate hyperplanes which segregates the classes in the best way. Left-hand side figure showing three hyperplanes black, blue and orange. Here, the blue and orange have higher classification error, but the black is separating the two classes correctly.\n",
        "\n",
        "2. Select the right hyperplane with the maximum segregation from the either nearest data points as shown in the right-hand side figure.\n",
        "\n",
        "<img src = 'http://res.cloudinary.com/dyd911kmh/image/upload/f_auto,q_auto:best/v1526288454/index2_ub1uzd.png' />\n",
        "\n",
        "#### Dealing with non-linear and inseparable planes\n",
        "Some problems can’t be solved using linear hyperplane, as shown in the figure below (left-hand side).\n",
        "\n",
        "In such situation, SVM uses a kernel trick to transform the input space to a higher dimensional space as shown on the right. The data points are plotted on the x-axis and z-axis (Z is the squared sum of both x and y: $z=x^2+y^2$). Now you can easily segregate these points using linear separation.\n",
        "\n",
        "<img src = 'http://res.cloudinary.com/dyd911kmh/image/upload/f_auto,q_auto:best/v1526288453/index_bnr4rx.png' />"
      ]
    },
    {
      "cell_type": "markdown",
      "metadata": {
        "id": "K26CEhfit-s7"
      },
      "source": [
        "## SVM Kernels\n",
        "The SVM algorithm is implemented in practice using a kernel. A kernel transforms an input data space into the required form. SVM uses a technique called the kernel trick. Here, the kernel takes a **low-dimensional** input space and transforms it into a **higher dimensional** space. In other words, you can say that it converts nonseparable problem to separable problems by adding more dimension to it. It is most useful in **non-linear** separation problem. Kernel trick helps you to build a more accurate classifier.\n",
        "\n",
        "- **Linear Kernel:** A linear kernel can be used as normal dot product any two given observations. The product between two vectors is the sum of the multiplication of each pair of input values.\n",
        "\n",
        "```python\n",
        "K(x, xi) = sum(x * xi)\n",
        "```\n",
        "\n",
        "- **Polynomial Kernel:** A polynomial kernel is a more generalized form of the linear kernel. The polynomial kernel can distinguish curved or nonlinear input space.\n",
        "\n",
        "```python\n",
        "K(x,xi) = 1 + sum(x * xi)^d\n",
        "```\n",
        "\n",
        "Where `d` is the degree of the polynomial. `d=1` is similar to the linear transformation. The degree needs to be **manually specified** in the learning algorithm.\n",
        "\n",
        "- **Radial Basis Function (RBF) Kernel:** The Radial basis function kernel is a popular kernel function, commonly used in support vector machine classification. RBF can map an input space in infinite dimensional space.\n",
        "\n",
        "```python\n",
        "K(x,xi) = exp(-gamma * sum((x – xi^2))\n",
        "```\n",
        "\n",
        "Here gamma is a parameter, which ranges from `0` to `1`. A higher value of gamma will perfectly fit the training dataset, which causes **over-fitting**. `Gamma=0.1` is considered to be a good default value. The value of gamma needs to be **manually specified** in the learning algorithm."
      ]
    },
    {
      "cell_type": "markdown",
      "metadata": {
        "id": "qrUD0WNEt-s7"
      },
      "source": [
        "## Classifier Building in Scikit-learn\n",
        "Until now, you have learned about the theoretical background of SVM. Now you will learn about its implementation in Python using scikit-learn.\n",
        "\n",
        "In the model the building part, you can use the cancer dataset, which is a very famous multi-class classification problem. This dataset is computed from a digitized image of a fine needle aspirate (FNA) of a breast mass. They describe characteristics of the cell nuclei present in the image.\n",
        "\n",
        "The dataset comprises 30 features (mean radius, mean texture, mean perimeter, mean area, mean smoothness, mean compactness, mean concavity, mean concave points, mean symmetry, mean fractal dimension, radius error, texture error, perimeter error, area error, smoothness error, compactness error, concavity error, concave points error, symmetry error, fractal dimension error, worst radius, worst texture, worst perimeter, worst area, worst smoothness, worst compactness, worst concavity, worst concave points, worst symmetry, and worst fractal dimension) and a target (type of cancer).\n",
        "\n",
        "This data has two types of cancer classes: malignant (harmful) and benign (not harmful). Here, you can build a model to classify the type of cancer. The dataset is available in the scikit-learn library or you can also download it from the UCI Machine Learning Library.\n",
        "\n",
        "### Loading Data\n",
        "Let's first load the required dataset you will use."
      ]
    },
    {
      "cell_type": "code",
      "metadata": {
        "id": "ElvIBLOxt-s8"
      },
      "source": [
        "#Import scikit-learn dataset library\n",
        "from sklearn import datasets\n",
        "\n",
        "#Load dataset\n",
        "cancer = datasets.load_breast_cancer()"
      ],
      "execution_count": null,
      "outputs": []
    },
    {
      "cell_type": "markdown",
      "metadata": {
        "id": "F6rcJqNit-s-"
      },
      "source": [
        "### Exploring Data\n",
        "After you have loaded the dataset, you might want to know a little bit more about it. You can check feature and target names."
      ]
    },
    {
      "cell_type": "code",
      "metadata": {
        "id": "W2mp4wyOt-s-",
        "colab": {
          "base_uri": "https://localhost:8080/"
        },
        "outputId": "14306ac2-fefc-4f02-f142-c83230be8333"
      },
      "source": [
        "# print the names of the 13 features\n",
        "print(\"Features: \", cancer.feature_names)\n",
        "\n",
        "# print the label type of cancer('malignant' 'benign')\n",
        "print(\"Labels: \", cancer.target_names)"
      ],
      "execution_count": null,
      "outputs": [
        {
          "output_type": "stream",
          "name": "stdout",
          "text": [
            "Features:  ['mean radius' 'mean texture' 'mean perimeter' 'mean area'\n",
            " 'mean smoothness' 'mean compactness' 'mean concavity'\n",
            " 'mean concave points' 'mean symmetry' 'mean fractal dimension'\n",
            " 'radius error' 'texture error' 'perimeter error' 'area error'\n",
            " 'smoothness error' 'compactness error' 'concavity error'\n",
            " 'concave points error' 'symmetry error' 'fractal dimension error'\n",
            " 'worst radius' 'worst texture' 'worst perimeter' 'worst area'\n",
            " 'worst smoothness' 'worst compactness' 'worst concavity'\n",
            " 'worst concave points' 'worst symmetry' 'worst fractal dimension']\n",
            "Labels:  ['malignant' 'benign']\n"
          ]
        }
      ]
    },
    {
      "cell_type": "markdown",
      "metadata": {
        "id": "mVRinY6Qt-tB"
      },
      "source": [
        "Let's explore it for a bit more. You can also check the shape of the dataset using shape."
      ]
    },
    {
      "cell_type": "code",
      "metadata": {
        "id": "Y0zjfi_3t-tB",
        "colab": {
          "base_uri": "https://localhost:8080/"
        },
        "outputId": "e9dac94e-d79e-40b3-d78b-8b16fbd6d628"
      },
      "source": [
        "# print data(feature)shape\n",
        "cancer.data.shape"
      ],
      "execution_count": null,
      "outputs": [
        {
          "output_type": "execute_result",
          "data": {
            "text/plain": [
              "(569, 30)"
            ]
          },
          "metadata": {},
          "execution_count": 3
        }
      ]
    },
    {
      "cell_type": "markdown",
      "metadata": {
        "id": "xkJd2SFSt-tD"
      },
      "source": [
        "Let's check top 5 records of the feature set."
      ]
    },
    {
      "cell_type": "code",
      "metadata": {
        "id": "ySGz_ChPt-tD",
        "colab": {
          "base_uri": "https://localhost:8080/"
        },
        "outputId": "6d4b0725-c397-4f1a-dd90-542fee0bf8ad"
      },
      "source": [
        "# print the cancer data features (top 5 records)\n",
        "print(cancer.data[0:5])"
      ],
      "execution_count": null,
      "outputs": [
        {
          "output_type": "stream",
          "name": "stdout",
          "text": [
            "[[1.799e+01 1.038e+01 1.228e+02 1.001e+03 1.184e-01 2.776e-01 3.001e-01\n",
            "  1.471e-01 2.419e-01 7.871e-02 1.095e+00 9.053e-01 8.589e+00 1.534e+02\n",
            "  6.399e-03 4.904e-02 5.373e-02 1.587e-02 3.003e-02 6.193e-03 2.538e+01\n",
            "  1.733e+01 1.846e+02 2.019e+03 1.622e-01 6.656e-01 7.119e-01 2.654e-01\n",
            "  4.601e-01 1.189e-01]\n",
            " [2.057e+01 1.777e+01 1.329e+02 1.326e+03 8.474e-02 7.864e-02 8.690e-02\n",
            "  7.017e-02 1.812e-01 5.667e-02 5.435e-01 7.339e-01 3.398e+00 7.408e+01\n",
            "  5.225e-03 1.308e-02 1.860e-02 1.340e-02 1.389e-02 3.532e-03 2.499e+01\n",
            "  2.341e+01 1.588e+02 1.956e+03 1.238e-01 1.866e-01 2.416e-01 1.860e-01\n",
            "  2.750e-01 8.902e-02]\n",
            " [1.969e+01 2.125e+01 1.300e+02 1.203e+03 1.096e-01 1.599e-01 1.974e-01\n",
            "  1.279e-01 2.069e-01 5.999e-02 7.456e-01 7.869e-01 4.585e+00 9.403e+01\n",
            "  6.150e-03 4.006e-02 3.832e-02 2.058e-02 2.250e-02 4.571e-03 2.357e+01\n",
            "  2.553e+01 1.525e+02 1.709e+03 1.444e-01 4.245e-01 4.504e-01 2.430e-01\n",
            "  3.613e-01 8.758e-02]\n",
            " [1.142e+01 2.038e+01 7.758e+01 3.861e+02 1.425e-01 2.839e-01 2.414e-01\n",
            "  1.052e-01 2.597e-01 9.744e-02 4.956e-01 1.156e+00 3.445e+00 2.723e+01\n",
            "  9.110e-03 7.458e-02 5.661e-02 1.867e-02 5.963e-02 9.208e-03 1.491e+01\n",
            "  2.650e+01 9.887e+01 5.677e+02 2.098e-01 8.663e-01 6.869e-01 2.575e-01\n",
            "  6.638e-01 1.730e-01]\n",
            " [2.029e+01 1.434e+01 1.351e+02 1.297e+03 1.003e-01 1.328e-01 1.980e-01\n",
            "  1.043e-01 1.809e-01 5.883e-02 7.572e-01 7.813e-01 5.438e+00 9.444e+01\n",
            "  1.149e-02 2.461e-02 5.688e-02 1.885e-02 1.756e-02 5.115e-03 2.254e+01\n",
            "  1.667e+01 1.522e+02 1.575e+03 1.374e-01 2.050e-01 4.000e-01 1.625e-01\n",
            "  2.364e-01 7.678e-02]]\n"
          ]
        }
      ]
    },
    {
      "cell_type": "markdown",
      "metadata": {
        "id": "eN6zkQTrt-tF"
      },
      "source": [
        "Let's take a look at the target variable values."
      ]
    },
    {
      "cell_type": "code",
      "metadata": {
        "id": "I-KIL0MSt-tG",
        "colab": {
          "base_uri": "https://localhost:8080/"
        },
        "outputId": "b17f04f6-df71-4ce9-aef1-ebde5aeb274e"
      },
      "source": [
        "# print the cancer labels (0:malignant, 1:benign)\n",
        "print(cancer.target)"
      ],
      "execution_count": null,
      "outputs": [
        {
          "output_type": "stream",
          "name": "stdout",
          "text": [
            "[0 0 0 0 0 0 0 0 0 0 0 0 0 0 0 0 0 0 0 1 1 1 0 0 0 0 0 0 0 0 0 0 0 0 0 0 0\n",
            " 1 0 0 0 0 0 0 0 0 1 0 1 1 1 1 1 0 0 1 0 0 1 1 1 1 0 1 0 0 1 1 1 1 0 1 0 0\n",
            " 1 0 1 0 0 1 1 1 0 0 1 0 0 0 1 1 1 0 1 1 0 0 1 1 1 0 0 1 1 1 1 0 1 1 0 1 1\n",
            " 1 1 1 1 1 1 0 0 0 1 0 0 1 1 1 0 0 1 0 1 0 0 1 0 0 1 1 0 1 1 0 1 1 1 1 0 1\n",
            " 1 1 1 1 1 1 1 1 0 1 1 1 1 0 0 1 0 1 1 0 0 1 1 0 0 1 1 1 1 0 1 1 0 0 0 1 0\n",
            " 1 0 1 1 1 0 1 1 0 0 1 0 0 0 0 1 0 0 0 1 0 1 0 1 1 0 1 0 0 0 0 1 1 0 0 1 1\n",
            " 1 0 1 1 1 1 1 0 0 1 1 0 1 1 0 0 1 0 1 1 1 1 0 1 1 1 1 1 0 1 0 0 0 0 0 0 0\n",
            " 0 0 0 0 0 0 0 1 1 1 1 1 1 0 1 0 1 1 0 1 1 0 1 0 0 1 1 1 1 1 1 1 1 1 1 1 1\n",
            " 1 0 1 1 0 1 0 1 1 1 1 1 1 1 1 1 1 1 1 1 1 0 1 1 1 0 1 0 1 1 1 1 0 0 0 1 1\n",
            " 1 1 0 1 0 1 0 1 1 1 0 1 1 1 1 1 1 1 0 0 0 1 1 1 1 1 1 1 1 1 1 1 0 0 1 0 0\n",
            " 0 1 0 0 1 1 1 1 1 0 1 1 1 1 1 0 1 1 1 0 1 1 0 0 1 1 1 1 1 1 0 1 1 1 1 1 1\n",
            " 1 0 1 1 1 1 1 0 1 1 0 1 1 1 1 1 1 1 1 1 1 1 1 0 1 0 0 1 0 1 1 1 1 1 0 1 1\n",
            " 0 1 0 1 1 0 1 0 1 1 1 1 1 1 1 1 0 0 1 1 1 1 1 1 0 1 1 1 1 1 1 1 1 1 1 0 1\n",
            " 1 1 1 1 1 1 0 1 0 1 1 0 1 1 1 1 1 0 0 1 0 1 0 1 1 1 1 1 0 1 1 0 1 0 1 0 0\n",
            " 1 1 1 0 1 1 1 1 1 1 1 1 1 1 1 0 1 0 0 1 1 1 1 1 1 1 1 1 1 1 1 1 1 1 1 1 1\n",
            " 1 1 1 1 1 1 1 0 0 0 0 0 0 1]\n"
          ]
        }
      ]
    },
    {
      "cell_type": "markdown",
      "metadata": {
        "id": "f2q5kPZFt-tI"
      },
      "source": [
        "#### YOUR TURN HERE\n",
        "In data science, a good practice is to check if the feature and target portions of the dataset have the same amount of observations, when they are provided separately. Please write your own code in the block below to test that."
      ]
    },
    {
      "cell_type": "code",
      "metadata": {
        "id": "LZXI9e7at-tI"
      },
      "source": [
        "#### YOUR CODE HERE\n"
      ],
      "execution_count": null,
      "outputs": []
    },
    {
      "cell_type": "markdown",
      "metadata": {
        "id": "ba9bOjKzt-tK"
      },
      "source": [
        "### Splitting Data\n",
        "To understand model performance, dividing the dataset into a training set and a test set is a good strategy.\n",
        "\n",
        "Split the dataset by using the function `train_test_split()`. you need to pass 3 parameters `features`, `target`, and `test_set` size. Additionally, you can use `random_state` to select records randomly.\n",
        "\n",
        "In this example, we use `70%` training and `30%` test split."
      ]
    },
    {
      "cell_type": "code",
      "metadata": {
        "id": "XRnEu3Jst-tK"
      },
      "source": [
        "# Import train_test_split function\n",
        "from sklearn.model_selection import train_test_split\n",
        "\n",
        "# Split dataset into training set and test set\n",
        "X_train, X_test, y_train, y_test = train_test_split(cancer.data, cancer.target, test_size=0.3,random_state=2019)\n"
      ],
      "execution_count": null,
      "outputs": []
    },
    {
      "cell_type": "markdown",
      "metadata": {
        "id": "1fx77Bx8t-tM"
      },
      "source": [
        "### Generating Model\n",
        "Let's build support vector machine model. First, import the SVM module and create support vector classifier object by passing argument kernel as the linear kernel in `SVC()` function.\n",
        "\n",
        "Then, fit your model on train set using `fit()` and perform prediction on the test set using `predict()`."
      ]
    },
    {
      "cell_type": "code",
      "metadata": {
        "id": "xWicrxONt-tM"
      },
      "source": [
        "#Import svm model\n",
        "from sklearn import svm\n",
        "\n",
        "#Create a svm Classifier\n",
        "clf = svm.SVC(kernel='linear') # Linear Kernel\n",
        "\n",
        "#Train the model using the training sets\n",
        "clf.fit(X_train, y_train)\n",
        "\n",
        "#Predict the response for test dataset\n",
        "y_pred = clf.predict(X_test)"
      ],
      "execution_count": null,
      "outputs": []
    },
    {
      "cell_type": "markdown",
      "metadata": {
        "id": "5me0BQKZt-tO"
      },
      "source": [
        "### Evaluating the Model\n",
        "Let's estimate how accurately the classifier or model can predict the breast cancer of patients.\n",
        "\n",
        "Accuracy can be computed by comparing actual test set values and predicted values."
      ]
    },
    {
      "cell_type": "code",
      "metadata": {
        "id": "uliRpfift-tP",
        "colab": {
          "base_uri": "https://localhost:8080/"
        },
        "outputId": "36e716f4-bb87-4ddb-8925-3f378e03ba9f"
      },
      "source": [
        "#Import scikit-learn metrics module for accuracy calculation\n",
        "from sklearn import metrics\n",
        "\n",
        "# Model Accuracy: how often is the classifier correct?\n",
        "print(\"Accuracy:\",metrics.accuracy_score(y_test, y_pred))\n"
      ],
      "execution_count": null,
      "outputs": [
        {
          "output_type": "stream",
          "name": "stdout",
          "text": [
            "Accuracy: 0.9532163742690059\n"
          ]
        }
      ]
    },
    {
      "cell_type": "markdown",
      "metadata": {
        "id": "gu6q0sCjt-tR"
      },
      "source": [
        "Well, you got a classification rate of `96.49%`, considered as very good accuracy.\n",
        "\n",
        "For further evaluation, you can also check `precision` and `recall` of model."
      ]
    },
    {
      "cell_type": "code",
      "metadata": {
        "id": "mWZHiFlBt-tR",
        "colab": {
          "base_uri": "https://localhost:8080/"
        },
        "outputId": "f97081b7-6471-4227-8b4e-9cd7554ebcc5"
      },
      "source": [
        "# Model Precision: what percentage of positive tuples are labeled as such?\n",
        "print(\"Precision:\",metrics.precision_score(y_test, y_pred))\n",
        "\n",
        "# Model Recall: what percentage of positive tuples are labelled as such?\n",
        "print(\"Recall:\",metrics.recall_score(y_test, y_pred))"
      ],
      "execution_count": null,
      "outputs": [
        {
          "output_type": "stream",
          "name": "stdout",
          "text": [
            "Precision: 0.9803921568627451\n",
            "Recall: 0.9433962264150944\n"
          ]
        }
      ]
    },
    {
      "cell_type": "markdown",
      "metadata": {
        "id": "P0zE1hjlt-tT"
      },
      "source": [
        "Well, you got a precision of 98% and recall of 96%, which are considered as very good values.\n",
        "\n",
        "\n",
        "### Tuning Hyperparameters\n",
        "- Kernel: The main function of the kernel is to transform the given dataset input data into the required form. There are various types of functions such as linear, polynomial, and radial basis function (RBF). Polynomial and RBF are useful for non-linear hyperplane. Polynomial and RBF kernels compute the separation line in the higher dimension. In some of the applications, it is suggested to use a more complex kernel to separate the classes that are curved or nonlinear. This transformation can lead to more accurate classifiers.\n",
        "- Regularization: Regularization parameter in python's Scikit-learn C parameter used to maintain regularization. Here C is the penalty parameter, which represents misclassification or error term. The misclassification or error term tells the SVM optimization how much error is bearable. This is how you can control the trade-off between decision boundary and misclassification term. A smaller value of C creates a small-margin hyperplane and a larger value of C creates a larger-margin hyperplane.\n",
        "- Gamma: A lower value of Gamma will loosely fit the training dataset, whereas a higher value of gamma will exactly fit the training dataset, which causes over-fitting. In other words, you can say a low value of gamma considers only nearby points in calculating the separation line, while the a value of gamma considers all the data points in the calculation of the separation line.\n",
        "\n"
      ]
    },
    {
      "cell_type": "markdown",
      "source": [
        "### Advantages\n",
        "SVM Classifiers offer good accuracy and perform faster prediction compared to Naïve Bayes algorithm. They also use less memory because they use a subset of training points in the decision phase. SVM works well with a clear margin of separation and with high dimensional space.\n",
        "\n",
        "### Disadvantages\n",
        "SVM is not suitable for large datasets because of its high training time and it also takes more time in training compared to Naïve Bayes. It works poorly with overlapping classes and is also sensitive to the type of kernel used.\n",
        "\n",
        "## Conclusion\n",
        "Congratulations, you have made it to the end of this tutorial!\n",
        "\n",
        "In this tutorial, you covered a lot of ground about Support vector machine algorithm, its working, kernels, hyperparameter tuning, model building and evaluation on breast cancer dataset using the Scikit-learn package. You have also covered its advantages and disadvantages. I hope you have learned something valuable!"
      ],
      "metadata": {
        "id": "ZawGs7KbJFuW"
      }
    },
    {
      "cell_type": "markdown",
      "source": [
        "## Extra Content: Bagging (Voting) Ensemble Learning\n",
        "\n",
        "We can train a few weak learners and use ensemble learning to see if we can boost the performance."
      ],
      "metadata": {
        "id": "_XDK9j8BJGQ-"
      }
    },
    {
      "cell_type": "code",
      "source": [
        "from sklearn.ensemble import VotingClassifier\n",
        "from sklearn.linear_model import LogisticRegression\n",
        "from sklearn.neighbors import KNeighborsClassifier\n",
        "import warnings\n",
        "warnings.filterwarnings('ignore')"
      ],
      "metadata": {
        "id": "mxnzyJ8oJVgo"
      },
      "execution_count": null,
      "outputs": []
    },
    {
      "cell_type": "code",
      "source": [
        "lr_clf = LogisticRegression(max_iter=2000)\n",
        "knn_clf = KNeighborsClassifier(n_neighbors=8)\n",
        "vo_clf = VotingClassifier(estimators=[('LR', lr_clf), ('KNN', knn_clf)], voting='soft')"
      ],
      "metadata": {
        "id": "3YGH7re3JYJk"
      },
      "execution_count": null,
      "outputs": []
    },
    {
      "cell_type": "code",
      "source": [
        "vo_clf.fit(X_train, y_train)\n",
        "pred = vo_clf.predict(X_test)\n",
        "print('Voting Classifier Accuracy : {0:4f} \\n'.format(metrics.accuracy_score(y_test, pred)))"
      ],
      "metadata": {
        "colab": {
          "base_uri": "https://localhost:8080/"
        },
        "id": "4WebSNKhJdh9",
        "outputId": "ddeaf3b7-edeb-4210-a58a-897cbb7024f0"
      },
      "execution_count": null,
      "outputs": [
        {
          "output_type": "stream",
          "name": "stdout",
          "text": [
            "Voting Classifier Accuracy : 0.947368 \n",
            "\n"
          ]
        }
      ]
    },
    {
      "cell_type": "code",
      "source": [
        "classifiers = [lr_clf, knn_clf]\n",
        "\n",
        "for classifier in classifiers:\n",
        "    classifier.fit(X_train, y_train)\n",
        "    pred = classifier.predict(X_test)\n",
        "    class_name = classifier.__class__.__name__\n",
        "\n",
        "    print('{0} Classifier Accuracy {1} \\n'.format(class_name, metrics.accuracy_score(y_test, pred)))"
      ],
      "metadata": {
        "colab": {
          "base_uri": "https://localhost:8080/"
        },
        "id": "RbnF2ewWJpCX",
        "outputId": "9b111392-78c4-497f-d302-ab580e6d24e7"
      },
      "execution_count": null,
      "outputs": [
        {
          "output_type": "stream",
          "name": "stdout",
          "text": [
            "LogisticRegression Classifier Accuracy 0.9415204678362573 \n",
            "\n",
            "KNeighborsClassifier Classifier Accuracy 0.9532163742690059 \n",
            "\n"
          ]
        }
      ]
    },
    {
      "cell_type": "code",
      "source": [
        "vo_clf = VotingClassifier(estimators=[('LR', lr_clf), ('KNN', knn_clf)], voting='hard')\n",
        "vo_clf.fit(X_train, y_train)\n",
        "pred = vo_clf.predict(X_test)\n",
        "print('Voting Classifier Accuracy : {0:4f} \\n'.format(metrics.accuracy_score(y_test, pred)))"
      ],
      "metadata": {
        "colab": {
          "base_uri": "https://localhost:8080/"
        },
        "id": "lU6FnIDcKEXk",
        "outputId": "296e6ab6-fcba-4371-8b95-8d9cc115d738"
      },
      "execution_count": null,
      "outputs": [
        {
          "output_type": "stream",
          "name": "stdout",
          "text": [
            "Voting Classifier Accuracy : 0.935673 \n",
            "\n"
          ]
        }
      ]
    },
    {
      "cell_type": "code",
      "metadata": {
        "id": "2mEWN2qSt-tT"
      },
      "source": [],
      "execution_count": null,
      "outputs": []
    }
  ]
}