{
  "nbformat": 4,
  "nbformat_minor": 0,
  "metadata": {
    "colab": {
      "provenance": []
    },
    "kernelspec": {
      "name": "python3",
      "display_name": "Python 3"
    }
  },
  "cells": [
    {
      "cell_type": "markdown",
      "metadata": {
        "id": "636Kuxc_ymLD"
      },
      "source": [
        "# Handling Imbalanced Data with SMOTE and Near Miss Algorithm in Python\n"
      ]
    },
    {
      "cell_type": "markdown",
      "metadata": {
        "id": "eST21SLHzDm3"
      },
      "source": [
        "## What is imbalanced data?\n",
        "\n",
        "- __Imbalanced Data Distribution__, generally happens when observations in _one of the class_ are much higher or lower than the other classes.\n",
        "\n",
        "- As Machine Learning algorithms tend to increase accuracy by reducing the error, they do not consider the class distribution.\n",
        "\n",
        "- This problem is prevalent in examples such as __Fraud Detection, Anomaly Detection, Facial recognition__ etc."
      ]
    },
    {
      "cell_type": "markdown",
      "metadata": {
        "id": "nqExKOdOzJPE"
      },
      "source": [
        "## Why is it a problem?\n",
        "\n",
        "- Standard ML techniques, such as Decision Tree and Logistic Regression, have a bias towards the __majority class__, and they tend to ignore the minority class.\n",
        "\n",
        "  - They tend only to predict the majority class, hence, having _major misclassification_ of the minority class in comparison with the majority class.\n",
        "  \n",
        "- In more technical words, if we have imbalanced data distribution in our dataset then our model becomes more prone to the case when minority class has negligible or very __lesser__ recall.\n",
        "\n",
        "  - where you end up with models with high accuracy but biased"
      ]
    },
    {
      "cell_type": "markdown",
      "metadata": {
        "id": "DvKC2d84z0j1"
      },
      "source": [
        "## How to handle imbalanced data in theory?\n",
        "\n",
        "- In general, there are two techniques: undersampling and oversampling\n",
        "  - suppose we have two classes (`0: 200, 1:1000`)\n",
        "  - Undersampling means down sample the majority class to match the minority class (e.g. random sample `200` out `1,000`)\n",
        "  - Oversampling means up sample the minority class to match the majority class (e.g. duplicate the `200` five times to match `1,000`)"
      ]
    },
    {
      "cell_type": "markdown",
      "metadata": {
        "id": "6sO2B1Qz0uYN"
      },
      "source": [
        "<!--## How to handle imbalanced data in theory?-->\n",
        "\n",
        "- Undersampling and oversampling both have their pros and cons\n",
        "  - Undersampling: you lose part of your dataset, if you have a __small__ dataset, then you should not use that;\n",
        "  - Oversampling: if we do _simple_ oversampling, by duplicating the data, we introduce error in the dataset\n",
        "    - Emphasize on patterns that might not be truly important in the dataset"
      ]
    },
    {
      "cell_type": "markdown",
      "metadata": {
        "id": "vcsXGwRo1a9J"
      },
      "source": [
        "## How to handle imbalanced data in practice?\n",
        "\n",
        "- Syntheic Minority Oversampling TEchnique (SMOTE)\n",
        "  - it is an oversampling technique\n",
        "  - proposed by This Nitesh Chawla, et al. in [“SMOTE: Synthetic Minority Over-sampling Technique.”](https://arxiv.org/abs/1106.1813)\n",
        "- Near Miss Algorithm\n",
        "  - it is an undersampling technique\n"
      ]
    },
    {
      "cell_type": "markdown",
      "metadata": {
        "id": "qLu491nC2hp-"
      },
      "source": [
        "## How SMOTE works?\n",
        "\n",
        "- SMOTE works by selecting examples that are close in the feature space,\n",
        "  - drawing a line between the examples in the feature space and drawing a new sample at a point along that line.\n",
        "- It is recommended that \"The combination of SMOTE and under-sampling performs better than plain under-sampling.\""
      ]
    },
    {
      "cell_type": "markdown",
      "metadata": {
        "id": "lqAWVH523LP0"
      },
      "source": [
        "<!--## How SMOTE works?-->\n",
        "\n",
        "- generates the synthetic training records by linear interpolation\n",
        "  - such as `s1-5` points below\n",
        "\n",
        "<img src = 'https://www.researchgate.net/profile/Christina_Bogner/publication/322701982/figure/fig1/AS:586787038715904@1516912340346/Illustration-of-SMOTE-Synthetic-points-crosses-denoted-s1-through-s5-generated-by.png' alt = 'SMOTE Illustration' width=\"300\" height=\"300\" />"
      ]
    },
    {
      "cell_type": "markdown",
      "metadata": {
        "id": "ZPUt4uLU4Mty"
      },
      "source": [
        "## The SMOTE Algorithm\n",
        "\n",
        "- __Step 1__: Setting the minority class set $A$, for each $x \\in A$, the __k-nearest neighbors__ of $x$ are obtained by calculating the __Euclidean distances__ between $x$ and every other sample in set $A$.\n",
        "- __Step 2__: The __sampling rate__ $n$ is set according to the imbalanced proportion. For each $x \\in A$, $n$ examples (i.e $x_1, x_2, …, x_n$) are randomly selected from its k-nearest neighbors, and they construct a new set $A_1$ .\n",
        "- __Step 3__: For each example $x_k \\in A_1$ (k=1, 2, 3…n), the following formula is used to generate a new example:\n",
        "$$x' = x + rand(0, 1) \\times \\mid x - x_k \\mid$$\n",
        "in which $rand(0, 1)$ represents the random number between 0 and 1."
      ]
    },
    {
      "cell_type": "markdown",
      "metadata": {
        "id": "Ys8N74A55XU7"
      },
      "source": [
        "## SMOTE in Action\n",
        "\n",
        "Now that we are familiar with the technique, let’s look at a worked example for an imbalanced classification problem.\n",
        "\n",
        "We will need the Imbalanced-learn (`imblearn`) Library - which is already installed for you. If you want to install that on your own, you can do that by:\n",
        "```shell\n",
        "  sudo pip install imbalanced-learn\n",
        "```"
      ]
    },
    {
      "cell_type": "code",
      "metadata": {
        "id": "-_qbmiBm6xHM"
      },
      "source": [
        "# skip this\n",
        "# import warnings\n",
        "# warnings.filterwarnings(\"ignore\")"
      ],
      "execution_count": null,
      "outputs": []
    },
    {
      "cell_type": "code",
      "metadata": {
        "id": "Qyv-7_Zv6QrH"
      },
      "source": [
        "# skip this\n",
        "# ! pip install imbalanced-learn==0.5.0"
      ],
      "execution_count": null,
      "outputs": []
    },
    {
      "cell_type": "code",
      "metadata": {
        "id": "k1ARJDzn0uFa",
        "colab": {
          "base_uri": "https://localhost:8080/"
        },
        "outputId": "bdd05eaf-3739-4ae3-e161-d2458e6c39b6"
      },
      "source": [
        "# check version number\n",
        "import imblearn\n",
        "print(imblearn.__version__)"
      ],
      "execution_count": null,
      "outputs": [
        {
          "output_type": "stream",
          "name": "stdout",
          "text": [
            "0.8.1\n"
          ]
        }
      ]
    },
    {
      "cell_type": "code",
      "metadata": {
        "id": "gwuAvvphz0Nw"
      },
      "source": [
        "# import necessary packages\n",
        "import pandas as pd\n",
        "import matplotlib.pyplot as plt\n",
        "import numpy as np\n",
        "from sklearn.datasets import make_classification\n",
        "from sklearn.model_selection import train_test_split\n",
        "from sklearn.linear_model import LogisticRegression\n",
        "from sklearn.preprocessing import StandardScaler\n",
        "from sklearn.metrics import confusion_matrix, classification_report\n",
        "from imblearn.over_sampling import SMOTE\n",
        "from imblearn.under_sampling import NearMiss\n",
        "\n",
        "#\n",
        "%matplotlib inline\n",
        "plt.style.use('ggplot')"
      ],
      "execution_count": null,
      "outputs": []
    },
    {
      "cell_type": "markdown",
      "metadata": {
        "id": "2D00fw8A7KbG"
      },
      "source": [
        "### Dataset Used\n",
        "\n",
        "<!--The dataset consists of transactions made by credit cards. This dataset has `492` __fraud__ transactions out of `284, 807` transactions. That makes it highly unbalanced, the positive class (frauds) account for __0.172%__ of all transactions.\n",
        "The dataset can be downloaded from [here](https://www.kaggle.com/mlg-ulb/creditcardfraud).-->\n",
        "\n",
        "In this section, we will develop an intuition for the SMOTE by applying it to an __imbalanced binary classification problem__.\n",
        "\n",
        "First, we can use the `make_classification()` function from [scikit-learn](https://scikit-learn.org/stable/modules/generated/sklearn.datasets.make_classification.html) to create a synthetic binary classification dataset with `50,000` examples and a `5:95` class distribution, with `15` features."
      ]
    },
    {
      "cell_type": "code",
      "metadata": {
        "id": "06lvCFYjySbv"
      },
      "source": [
        "# define dataset\n",
        "X, y = make_classification(n_samples=50000, n_features=15, n_informative = 10, n_redundant=2, n_classes=2,\n",
        "\tn_clusters_per_class=1, weights=[0.95], flip_y=0.3, random_state=2019)"
      ],
      "execution_count": null,
      "outputs": []
    },
    {
      "cell_type": "markdown",
      "metadata": {
        "id": "WjhNCGRj-w5c"
      },
      "source": [
        "We can then make them into DataFrames (`feature_df` and `target_df`) to review them."
      ]
    },
    {
      "cell_type": "code",
      "metadata": {
        "id": "FNEfOjoq9ywL",
        "colab": {
          "base_uri": "https://localhost:8080/"
        },
        "outputId": "f4c2c77b-561e-42bd-c6ef-179b324ce407"
      },
      "source": [
        "feature_df = pd.DataFrame(X)\n",
        "feature_df.shape"
      ],
      "execution_count": null,
      "outputs": [
        {
          "output_type": "execute_result",
          "data": {
            "text/plain": [
              "(50000, 15)"
            ]
          },
          "metadata": {},
          "execution_count": 6
        }
      ]
    },
    {
      "cell_type": "code",
      "metadata": {
        "id": "w90WwHc2--i3",
        "colab": {
          "base_uri": "https://localhost:8080/",
          "height": 206
        },
        "outputId": "51d71c0a-5593-463c-fd8a-d9305208aa3d"
      },
      "source": [
        "feature_df.head()"
      ],
      "execution_count": null,
      "outputs": [
        {
          "output_type": "execute_result",
          "data": {
            "text/plain": [
              "         0         1         2         3         4         5         6   \\\n",
              "0  2.203232 -0.338470 -1.942360  1.094863  0.702001  2.704392 -1.693710   \n",
              "1 -8.515620  1.656997 -3.060870  0.475583 -0.261400 -4.327472  5.997952   \n",
              "2  0.012205 -2.522472  1.237701  0.840568 -0.448538  0.968444 -1.525985   \n",
              "3  4.329968  1.092611 -0.814243 -1.946804 -2.625136  1.245421 -3.260440   \n",
              "4  3.060353  1.402605 -2.949017 -0.337781 -0.198406  1.792650  0.894275   \n",
              "\n",
              "         7         8         9         10        11        12        13  \\\n",
              "0 -0.935677 -1.992745 -0.530799 -0.687534 -1.088979 -1.057839 -0.336629   \n",
              "1 -1.681292  2.224752 -1.416957 -0.138239 -0.611985 -1.068869 -0.575796   \n",
              "2 -2.860762 -1.597672  0.197300 -0.710927 -2.107175  0.272293 -1.423747   \n",
              "3 -0.412368 -1.057903 -1.162730 -0.819842  1.237197  0.226003  1.801557   \n",
              "4  0.077573 -2.917262 -2.961037  0.453568  2.378817 -1.214751  1.896571   \n",
              "\n",
              "         14  \n",
              "0  0.661311  \n",
              "1 -4.186383  \n",
              "2  0.863387  \n",
              "3  1.026415  \n",
              "4 -0.876971  "
            ],
            "text/html": [
              "\n",
              "  <div id=\"df-0c684618-fe02-4b03-89b2-1510483b96ec\">\n",
              "    <div class=\"colab-df-container\">\n",
              "      <div>\n",
              "<style scoped>\n",
              "    .dataframe tbody tr th:only-of-type {\n",
              "        vertical-align: middle;\n",
              "    }\n",
              "\n",
              "    .dataframe tbody tr th {\n",
              "        vertical-align: top;\n",
              "    }\n",
              "\n",
              "    .dataframe thead th {\n",
              "        text-align: right;\n",
              "    }\n",
              "</style>\n",
              "<table border=\"1\" class=\"dataframe\">\n",
              "  <thead>\n",
              "    <tr style=\"text-align: right;\">\n",
              "      <th></th>\n",
              "      <th>0</th>\n",
              "      <th>1</th>\n",
              "      <th>2</th>\n",
              "      <th>3</th>\n",
              "      <th>4</th>\n",
              "      <th>5</th>\n",
              "      <th>6</th>\n",
              "      <th>7</th>\n",
              "      <th>8</th>\n",
              "      <th>9</th>\n",
              "      <th>10</th>\n",
              "      <th>11</th>\n",
              "      <th>12</th>\n",
              "      <th>13</th>\n",
              "      <th>14</th>\n",
              "    </tr>\n",
              "  </thead>\n",
              "  <tbody>\n",
              "    <tr>\n",
              "      <th>0</th>\n",
              "      <td>2.203232</td>\n",
              "      <td>-0.338470</td>\n",
              "      <td>-1.942360</td>\n",
              "      <td>1.094863</td>\n",
              "      <td>0.702001</td>\n",
              "      <td>2.704392</td>\n",
              "      <td>-1.693710</td>\n",
              "      <td>-0.935677</td>\n",
              "      <td>-1.992745</td>\n",
              "      <td>-0.530799</td>\n",
              "      <td>-0.687534</td>\n",
              "      <td>-1.088979</td>\n",
              "      <td>-1.057839</td>\n",
              "      <td>-0.336629</td>\n",
              "      <td>0.661311</td>\n",
              "    </tr>\n",
              "    <tr>\n",
              "      <th>1</th>\n",
              "      <td>-8.515620</td>\n",
              "      <td>1.656997</td>\n",
              "      <td>-3.060870</td>\n",
              "      <td>0.475583</td>\n",
              "      <td>-0.261400</td>\n",
              "      <td>-4.327472</td>\n",
              "      <td>5.997952</td>\n",
              "      <td>-1.681292</td>\n",
              "      <td>2.224752</td>\n",
              "      <td>-1.416957</td>\n",
              "      <td>-0.138239</td>\n",
              "      <td>-0.611985</td>\n",
              "      <td>-1.068869</td>\n",
              "      <td>-0.575796</td>\n",
              "      <td>-4.186383</td>\n",
              "    </tr>\n",
              "    <tr>\n",
              "      <th>2</th>\n",
              "      <td>0.012205</td>\n",
              "      <td>-2.522472</td>\n",
              "      <td>1.237701</td>\n",
              "      <td>0.840568</td>\n",
              "      <td>-0.448538</td>\n",
              "      <td>0.968444</td>\n",
              "      <td>-1.525985</td>\n",
              "      <td>-2.860762</td>\n",
              "      <td>-1.597672</td>\n",
              "      <td>0.197300</td>\n",
              "      <td>-0.710927</td>\n",
              "      <td>-2.107175</td>\n",
              "      <td>0.272293</td>\n",
              "      <td>-1.423747</td>\n",
              "      <td>0.863387</td>\n",
              "    </tr>\n",
              "    <tr>\n",
              "      <th>3</th>\n",
              "      <td>4.329968</td>\n",
              "      <td>1.092611</td>\n",
              "      <td>-0.814243</td>\n",
              "      <td>-1.946804</td>\n",
              "      <td>-2.625136</td>\n",
              "      <td>1.245421</td>\n",
              "      <td>-3.260440</td>\n",
              "      <td>-0.412368</td>\n",
              "      <td>-1.057903</td>\n",
              "      <td>-1.162730</td>\n",
              "      <td>-0.819842</td>\n",
              "      <td>1.237197</td>\n",
              "      <td>0.226003</td>\n",
              "      <td>1.801557</td>\n",
              "      <td>1.026415</td>\n",
              "    </tr>\n",
              "    <tr>\n",
              "      <th>4</th>\n",
              "      <td>3.060353</td>\n",
              "      <td>1.402605</td>\n",
              "      <td>-2.949017</td>\n",
              "      <td>-0.337781</td>\n",
              "      <td>-0.198406</td>\n",
              "      <td>1.792650</td>\n",
              "      <td>0.894275</td>\n",
              "      <td>0.077573</td>\n",
              "      <td>-2.917262</td>\n",
              "      <td>-2.961037</td>\n",
              "      <td>0.453568</td>\n",
              "      <td>2.378817</td>\n",
              "      <td>-1.214751</td>\n",
              "      <td>1.896571</td>\n",
              "      <td>-0.876971</td>\n",
              "    </tr>\n",
              "  </tbody>\n",
              "</table>\n",
              "</div>\n",
              "      <button class=\"colab-df-convert\" onclick=\"convertToInteractive('df-0c684618-fe02-4b03-89b2-1510483b96ec')\"\n",
              "              title=\"Convert this dataframe to an interactive table.\"\n",
              "              style=\"display:none;\">\n",
              "        \n",
              "  <svg xmlns=\"http://www.w3.org/2000/svg\" height=\"24px\"viewBox=\"0 0 24 24\"\n",
              "       width=\"24px\">\n",
              "    <path d=\"M0 0h24v24H0V0z\" fill=\"none\"/>\n",
              "    <path d=\"M18.56 5.44l.94 2.06.94-2.06 2.06-.94-2.06-.94-.94-2.06-.94 2.06-2.06.94zm-11 1L8.5 8.5l.94-2.06 2.06-.94-2.06-.94L8.5 2.5l-.94 2.06-2.06.94zm10 10l.94 2.06.94-2.06 2.06-.94-2.06-.94-.94-2.06-.94 2.06-2.06.94z\"/><path d=\"M17.41 7.96l-1.37-1.37c-.4-.4-.92-.59-1.43-.59-.52 0-1.04.2-1.43.59L10.3 9.45l-7.72 7.72c-.78.78-.78 2.05 0 2.83L4 21.41c.39.39.9.59 1.41.59.51 0 1.02-.2 1.41-.59l7.78-7.78 2.81-2.81c.8-.78.8-2.07 0-2.86zM5.41 20L4 18.59l7.72-7.72 1.47 1.35L5.41 20z\"/>\n",
              "  </svg>\n",
              "      </button>\n",
              "      \n",
              "  <style>\n",
              "    .colab-df-container {\n",
              "      display:flex;\n",
              "      flex-wrap:wrap;\n",
              "      gap: 12px;\n",
              "    }\n",
              "\n",
              "    .colab-df-convert {\n",
              "      background-color: #E8F0FE;\n",
              "      border: none;\n",
              "      border-radius: 50%;\n",
              "      cursor: pointer;\n",
              "      display: none;\n",
              "      fill: #1967D2;\n",
              "      height: 32px;\n",
              "      padding: 0 0 0 0;\n",
              "      width: 32px;\n",
              "    }\n",
              "\n",
              "    .colab-df-convert:hover {\n",
              "      background-color: #E2EBFA;\n",
              "      box-shadow: 0px 1px 2px rgba(60, 64, 67, 0.3), 0px 1px 3px 1px rgba(60, 64, 67, 0.15);\n",
              "      fill: #174EA6;\n",
              "    }\n",
              "\n",
              "    [theme=dark] .colab-df-convert {\n",
              "      background-color: #3B4455;\n",
              "      fill: #D2E3FC;\n",
              "    }\n",
              "\n",
              "    [theme=dark] .colab-df-convert:hover {\n",
              "      background-color: #434B5C;\n",
              "      box-shadow: 0px 1px 3px 1px rgba(0, 0, 0, 0.15);\n",
              "      filter: drop-shadow(0px 1px 2px rgba(0, 0, 0, 0.3));\n",
              "      fill: #FFFFFF;\n",
              "    }\n",
              "  </style>\n",
              "\n",
              "      <script>\n",
              "        const buttonEl =\n",
              "          document.querySelector('#df-0c684618-fe02-4b03-89b2-1510483b96ec button.colab-df-convert');\n",
              "        buttonEl.style.display =\n",
              "          google.colab.kernel.accessAllowed ? 'block' : 'none';\n",
              "\n",
              "        async function convertToInteractive(key) {\n",
              "          const element = document.querySelector('#df-0c684618-fe02-4b03-89b2-1510483b96ec');\n",
              "          const dataTable =\n",
              "            await google.colab.kernel.invokeFunction('convertToInteractive',\n",
              "                                                     [key], {});\n",
              "          if (!dataTable) return;\n",
              "\n",
              "          const docLinkHtml = 'Like what you see? Visit the ' +\n",
              "            '<a target=\"_blank\" href=https://colab.research.google.com/notebooks/data_table.ipynb>data table notebook</a>'\n",
              "            + ' to learn more about interactive tables.';\n",
              "          element.innerHTML = '';\n",
              "          dataTable['output_type'] = 'display_data';\n",
              "          await google.colab.output.renderOutput(dataTable, element);\n",
              "          const docLink = document.createElement('div');\n",
              "          docLink.innerHTML = docLinkHtml;\n",
              "          element.appendChild(docLink);\n",
              "        }\n",
              "      </script>\n",
              "    </div>\n",
              "  </div>\n",
              "  "
            ]
          },
          "metadata": {},
          "execution_count": 7
        }
      ]
    },
    {
      "cell_type": "code",
      "metadata": {
        "id": "2YecOhJN_I7o",
        "colab": {
          "base_uri": "https://localhost:8080/"
        },
        "outputId": "7e57a87d-f347-4ccd-c6b0-ce3c0e4fbaf7"
      },
      "source": [
        "target_df = pd.Series(y)\n",
        "target_df.shape"
      ],
      "execution_count": null,
      "outputs": [
        {
          "output_type": "execute_result",
          "data": {
            "text/plain": [
              "(50000,)"
            ]
          },
          "metadata": {},
          "execution_count": 8
        }
      ]
    },
    {
      "cell_type": "code",
      "metadata": {
        "id": "bf0BTOF1_Qxp",
        "colab": {
          "base_uri": "https://localhost:8080/"
        },
        "outputId": "f03e1d52-8348-4beb-c1ad-3c15d91d930a"
      },
      "source": [
        "target_df.value_counts()"
      ],
      "execution_count": null,
      "outputs": [
        {
          "output_type": "execute_result",
          "data": {
            "text/plain": [
              "0    40730\n",
              "1     9270\n",
              "dtype: int64"
            ]
          },
          "metadata": {},
          "execution_count": 9
        }
      ]
    },
    {
      "cell_type": "markdown",
      "metadata": {
        "id": "FvQl-2Tg_ifw"
      },
      "source": [
        "We can plot it in a bar chart to see how much the data is imbalanced."
      ]
    },
    {
      "cell_type": "code",
      "metadata": {
        "id": "aP7LLtRj_Ush",
        "colab": {
          "base_uri": "https://localhost:8080/",
          "height": 262
        },
        "outputId": "7e0e65b7-70a9-406a-960e-5ba3e57623c9"
      },
      "source": [
        "target_df.value_counts().plot(kind='bar');"
      ],
      "execution_count": null,
      "outputs": [
        {
          "output_type": "display_data",
          "data": {
            "text/plain": [
              "<Figure size 432x288 with 1 Axes>"
            ],
            "image/png": "[encoded data removed]"
          },
          "metadata": {}
        }
      ]
    },
    {
      "cell_type": "markdown",
      "metadata": {
        "id": "ul6AZLdIAkLc"
      },
      "source": [
        "We can also look at the `info` of the data"
      ]
    },
    {
      "cell_type": "code",
      "metadata": {
        "id": "LGImeTGK_-hX",
        "colab": {
          "base_uri": "https://localhost:8080/"
        },
        "outputId": "952a8384-311d-4ae2-b37e-a1fb523f9fca"
      },
      "source": [
        "feature_df.info()"
      ],
      "execution_count": null,
      "outputs": [
        {
          "output_type": "stream",
          "name": "stdout",
          "text": [
            "<class 'pandas.core.frame.DataFrame'>\n",
            "RangeIndex: 50000 entries, 0 to 49999\n",
            "Data columns (total 15 columns):\n",
            " #   Column  Non-Null Count  Dtype  \n",
            "---  ------  --------------  -----  \n",
            " 0   0       50000 non-null  float64\n",
            " 1   1       50000 non-null  float64\n",
            " 2   2       50000 non-null  float64\n",
            " 3   3       50000 non-null  float64\n",
            " 4   4       50000 non-null  float64\n",
            " 5   5       50000 non-null  float64\n",
            " 6   6       50000 non-null  float64\n",
            " 7   7       50000 non-null  float64\n",
            " 8   8       50000 non-null  float64\n",
            " 9   9       50000 non-null  float64\n",
            " 10  10      50000 non-null  float64\n",
            " 11  11      50000 non-null  float64\n",
            " 12  12      50000 non-null  float64\n",
            " 13  13      50000 non-null  float64\n",
            " 14  14      50000 non-null  float64\n",
            "dtypes: float64(15)\n",
            "memory usage: 5.7 MB\n"
          ]
        }
      ]
    },
    {
      "cell_type": "markdown",
      "metadata": {
        "id": "KX2Zoa24CTw-"
      },
      "source": [
        "Let's look at the descriptive statistics of the data."
      ]
    },
    {
      "cell_type": "code",
      "metadata": {
        "id": "MXc50ByfCcz0",
        "colab": {
          "base_uri": "https://localhost:8080/",
          "height": 364
        },
        "outputId": "affbf0ea-e33a-4c7f-d117-ba39e6f35310"
      },
      "source": [
        "feature_df.describe()"
      ],
      "execution_count": null,
      "outputs": [
        {
          "output_type": "execute_result",
          "data": {
            "text/plain": [
              "                 0             1             2             3             4   \\\n",
              "count  50000.000000  50000.000000  50000.000000  50000.000000  50000.000000   \n",
              "mean       2.840012      0.004052     -1.007150     -1.005375     -0.003444   \n",
              "std        4.263484      0.999375      1.894039      2.063853      0.991212   \n",
              "min      -14.145078     -4.796405     -9.310272     -9.342071     -4.177785   \n",
              "25%       -0.029978     -0.662435     -2.283985     -2.398035     -0.678120   \n",
              "50%        2.837641      0.004677     -1.006449     -0.997374     -0.001286   \n",
              "75%        5.717328      0.674665      0.270924      0.384540      0.657904   \n",
              "max       20.675725      4.181346      6.529603      7.784864      4.245817   \n",
              "\n",
              "                 5             6             7             8             9   \\\n",
              "count  50000.000000  50000.000000  50000.000000  50000.000000  50000.000000   \n",
              "mean       0.998727     -0.894842     -0.900989     -0.992759     -0.901772   \n",
              "std        1.725686      2.094143      1.365904      2.005733      2.141612   \n",
              "min       -8.772394    -10.802910     -7.245892     -9.447663    -12.392482   \n",
              "25%       -0.162358     -2.318001     -1.809992     -2.339742     -2.361374   \n",
              "50%        0.993003     -0.893993     -0.955396     -0.990523     -0.915373   \n",
              "75%        2.150226      0.520066     -0.081549      0.357839      0.542259   \n",
              "max        8.536446      8.634736      7.672094      7.178808      7.795812   \n",
              "\n",
              "                 10            11            12            13            14  \n",
              "count  50000.000000  50000.000000  50000.000000  50000.000000  50000.000000  \n",
              "mean      -0.998364      0.760222      0.001682      0.900422     -0.909906  \n",
              "std        1.194688      2.513160      0.997924      1.786721      1.995354  \n",
              "min       -8.517993     -9.348258     -4.639400     -7.236252     -9.056560  \n",
              "25%       -1.774497     -0.893343     -0.670262     -0.291466     -2.261922  \n",
              "50%       -1.000502      0.673951      0.002155      0.925708     -0.919781  \n",
              "75%       -0.224397      2.303599      0.676869      2.116431      0.414218  \n",
              "max        5.918730     17.996332      4.206088      8.764451      7.238012  "
            ],
            "text/html": [
              "\n",
              "  <div id=\"df-48b37675-c4cf-4b30-916a-18cd478ca4d1\">\n",
              "    <div class=\"colab-df-container\">\n",
              "      <div>\n",
              "<style scoped>\n",
              "    .dataframe tbody tr th:only-of-type {\n",
              "        vertical-align: middle;\n",
              "    }\n",
              "\n",
              "    .dataframe tbody tr th {\n",
              "        vertical-align: top;\n",
              "    }\n",
              "\n",
              "    .dataframe thead th {\n",
              "        text-align: right;\n",
              "    }\n",
              "</style>\n",
              "<table border=\"1\" class=\"dataframe\">\n",
              "  <thead>\n",
              "    <tr style=\"text-align: right;\">\n",
              "      <th></th>\n",
              "      <th>0</th>\n",
              "      <th>1</th>\n",
              "      <th>2</th>\n",
              "      <th>3</th>\n",
              "      <th>4</th>\n",
              "      <th>5</th>\n",
              "      <th>6</th>\n",
              "      <th>7</th>\n",
              "      <th>8</th>\n",
              "      <th>9</th>\n",
              "      <th>10</th>\n",
              "      <th>11</th>\n",
              "      <th>12</th>\n",
              "      <th>13</th>\n",
              "      <th>14</th>\n",
              "    </tr>\n",
              "  </thead>\n",
              "  <tbody>\n",
              "    <tr>\n",
              "      <th>count</th>\n",
              "      <td>50000.000000</td>\n",
              "      <td>50000.000000</td>\n",
              "      <td>50000.000000</td>\n",
              "      <td>50000.000000</td>\n",
              "      <td>50000.000000</td>\n",
              "      <td>50000.000000</td>\n",
              "      <td>50000.000000</td>\n",
              "      <td>50000.000000</td>\n",
              "      <td>50000.000000</td>\n",
              "      <td>50000.000000</td>\n",
              "      <td>50000.000000</td>\n",
              "      <td>50000.000000</td>\n",
              "      <td>50000.000000</td>\n",
              "      <td>50000.000000</td>\n",
              "      <td>50000.000000</td>\n",
              "    </tr>\n",
              "    <tr>\n",
              "      <th>mean</th>\n",
              "      <td>2.840012</td>\n",
              "      <td>0.004052</td>\n",
              "      <td>-1.007150</td>\n",
              "      <td>-1.005375</td>\n",
              "      <td>-0.003444</td>\n",
              "      <td>0.998727</td>\n",
              "      <td>-0.894842</td>\n",
              "      <td>-0.900989</td>\n",
              "      <td>-0.992759</td>\n",
              "      <td>-0.901772</td>\n",
              "      <td>-0.998364</td>\n",
              "      <td>0.760222</td>\n",
              "      <td>0.001682</td>\n",
              "      <td>0.900422</td>\n",
              "      <td>-0.909906</td>\n",
              "    </tr>\n",
              "    <tr>\n",
              "      <th>std</th>\n",
              "      <td>4.263484</td>\n",
              "      <td>0.999375</td>\n",
              "      <td>1.894039</td>\n",
              "      <td>2.063853</td>\n",
              "      <td>0.991212</td>\n",
              "      <td>1.725686</td>\n",
              "      <td>2.094143</td>\n",
              "      <td>1.365904</td>\n",
              "      <td>2.005733</td>\n",
              "      <td>2.141612</td>\n",
              "      <td>1.194688</td>\n",
              "      <td>2.513160</td>\n",
              "      <td>0.997924</td>\n",
              "      <td>1.786721</td>\n",
              "      <td>1.995354</td>\n",
              "    </tr>\n",
              "    <tr>\n",
              "      <th>min</th>\n",
              "      <td>-14.145078</td>\n",
              "      <td>-4.796405</td>\n",
              "      <td>-9.310272</td>\n",
              "      <td>-9.342071</td>\n",
              "      <td>-4.177785</td>\n",
              "      <td>-8.772394</td>\n",
              "      <td>-10.802910</td>\n",
              "      <td>-7.245892</td>\n",
              "      <td>-9.447663</td>\n",
              "      <td>-12.392482</td>\n",
              "      <td>-8.517993</td>\n",
              "      <td>-9.348258</td>\n",
              "      <td>-4.639400</td>\n",
              "      <td>-7.236252</td>\n",
              "      <td>-9.056560</td>\n",
              "    </tr>\n",
              "    <tr>\n",
              "      <th>25%</th>\n",
              "      <td>-0.029978</td>\n",
              "      <td>-0.662435</td>\n",
              "      <td>-2.283985</td>\n",
              "      <td>-2.398035</td>\n",
              "      <td>-0.678120</td>\n",
              "      <td>-0.162358</td>\n",
              "      <td>-2.318001</td>\n",
              "      <td>-1.809992</td>\n",
              "      <td>-2.339742</td>\n",
              "      <td>-2.361374</td>\n",
              "      <td>-1.774497</td>\n",
              "      <td>-0.893343</td>\n",
              "      <td>-0.670262</td>\n",
              "      <td>-0.291466</td>\n",
              "      <td>-2.261922</td>\n",
              "    </tr>\n",
              "    <tr>\n",
              "      <th>50%</th>\n",
              "      <td>2.837641</td>\n",
              "      <td>0.004677</td>\n",
              "      <td>-1.006449</td>\n",
              "      <td>-0.997374</td>\n",
              "      <td>-0.001286</td>\n",
              "      <td>0.993003</td>\n",
              "      <td>-0.893993</td>\n",
              "      <td>-0.955396</td>\n",
              "      <td>-0.990523</td>\n",
              "      <td>-0.915373</td>\n",
              "      <td>-1.000502</td>\n",
              "      <td>0.673951</td>\n",
              "      <td>0.002155</td>\n",
              "      <td>0.925708</td>\n",
              "      <td>-0.919781</td>\n",
              "    </tr>\n",
              "    <tr>\n",
              "      <th>75%</th>\n",
              "      <td>5.717328</td>\n",
              "      <td>0.674665</td>\n",
              "      <td>0.270924</td>\n",
              "      <td>0.384540</td>\n",
              "      <td>0.657904</td>\n",
              "      <td>2.150226</td>\n",
              "      <td>0.520066</td>\n",
              "      <td>-0.081549</td>\n",
              "      <td>0.357839</td>\n",
              "      <td>0.542259</td>\n",
              "      <td>-0.224397</td>\n",
              "      <td>2.303599</td>\n",
              "      <td>0.676869</td>\n",
              "      <td>2.116431</td>\n",
              "      <td>0.414218</td>\n",
              "    </tr>\n",
              "    <tr>\n",
              "      <th>max</th>\n",
              "      <td>20.675725</td>\n",
              "      <td>4.181346</td>\n",
              "      <td>6.529603</td>\n",
              "      <td>7.784864</td>\n",
              "      <td>4.245817</td>\n",
              "      <td>8.536446</td>\n",
              "      <td>8.634736</td>\n",
              "      <td>7.672094</td>\n",
              "      <td>7.178808</td>\n",
              "      <td>7.795812</td>\n",
              "      <td>5.918730</td>\n",
              "      <td>17.996332</td>\n",
              "      <td>4.206088</td>\n",
              "      <td>8.764451</td>\n",
              "      <td>7.238012</td>\n",
              "    </tr>\n",
              "  </tbody>\n",
              "</table>\n",
              "</div>\n",
              "      <button class=\"colab-df-convert\" onclick=\"convertToInteractive('df-48b37675-c4cf-4b30-916a-18cd478ca4d1')\"\n",
              "              title=\"Convert this dataframe to an interactive table.\"\n",
              "              style=\"display:none;\">\n",
              "        \n",
              "  <svg xmlns=\"http://www.w3.org/2000/svg\" height=\"24px\"viewBox=\"0 0 24 24\"\n",
              "       width=\"24px\">\n",
              "    <path d=\"M0 0h24v24H0V0z\" fill=\"none\"/>\n",
              "    <path d=\"M18.56 5.44l.94 2.06.94-2.06 2.06-.94-2.06-.94-.94-2.06-.94 2.06-2.06.94zm-11 1L8.5 8.5l.94-2.06 2.06-.94-2.06-.94L8.5 2.5l-.94 2.06-2.06.94zm10 10l.94 2.06.94-2.06 2.06-.94-2.06-.94-.94-2.06-.94 2.06-2.06.94z\"/><path d=\"M17.41 7.96l-1.37-1.37c-.4-.4-.92-.59-1.43-.59-.52 0-1.04.2-1.43.59L10.3 9.45l-7.72 7.72c-.78.78-.78 2.05 0 2.83L4 21.41c.39.39.9.59 1.41.59.51 0 1.02-.2 1.41-.59l7.78-7.78 2.81-2.81c.8-.78.8-2.07 0-2.86zM5.41 20L4 18.59l7.72-7.72 1.47 1.35L5.41 20z\"/>\n",
              "  </svg>\n",
              "      </button>\n",
              "      \n",
              "  <style>\n",
              "    .colab-df-container {\n",
              "      display:flex;\n",
              "      flex-wrap:wrap;\n",
              "      gap: 12px;\n",
              "    }\n",
              "\n",
              "    .colab-df-convert {\n",
              "      background-color: #E8F0FE;\n",
              "      border: none;\n",
              "      border-radius: 50%;\n",
              "      cursor: pointer;\n",
              "      display: none;\n",
              "      fill: #1967D2;\n",
              "      height: 32px;\n",
              "      padding: 0 0 0 0;\n",
              "      width: 32px;\n",
              "    }\n",
              "\n",
              "    .colab-df-convert:hover {\n",
              "      background-color: #E2EBFA;\n",
              "      box-shadow: 0px 1px 2px rgba(60, 64, 67, 0.3), 0px 1px 3px 1px rgba(60, 64, 67, 0.15);\n",
              "      fill: #174EA6;\n",
              "    }\n",
              "\n",
              "    [theme=dark] .colab-df-convert {\n",
              "      background-color: #3B4455;\n",
              "      fill: #D2E3FC;\n",
              "    }\n",
              "\n",
              "    [theme=dark] .colab-df-convert:hover {\n",
              "      background-color: #434B5C;\n",
              "      box-shadow: 0px 1px 3px 1px rgba(0, 0, 0, 0.15);\n",
              "      filter: drop-shadow(0px 1px 2px rgba(0, 0, 0, 0.3));\n",
              "      fill: #FFFFFF;\n",
              "    }\n",
              "  </style>\n",
              "\n",
              "      <script>\n",
              "        const buttonEl =\n",
              "          document.querySelector('#df-48b37675-c4cf-4b30-916a-18cd478ca4d1 button.colab-df-convert');\n",
              "        buttonEl.style.display =\n",
              "          google.colab.kernel.accessAllowed ? 'block' : 'none';\n",
              "\n",
              "        async function convertToInteractive(key) {\n",
              "          const element = document.querySelector('#df-48b37675-c4cf-4b30-916a-18cd478ca4d1');\n",
              "          const dataTable =\n",
              "            await google.colab.kernel.invokeFunction('convertToInteractive',\n",
              "                                                     [key], {});\n",
              "          if (!dataTable) return;\n",
              "\n",
              "          const docLinkHtml = 'Like what you see? Visit the ' +\n",
              "            '<a target=\"_blank\" href=https://colab.research.google.com/notebooks/data_table.ipynb>data table notebook</a>'\n",
              "            + ' to learn more about interactive tables.';\n",
              "          element.innerHTML = '';\n",
              "          dataTable['output_type'] = 'display_data';\n",
              "          await google.colab.output.renderOutput(dataTable, element);\n",
              "          const docLink = document.createElement('div');\n",
              "          docLink.innerHTML = docLinkHtml;\n",
              "          element.appendChild(docLink);\n",
              "        }\n",
              "      </script>\n",
              "    </div>\n",
              "  </div>\n",
              "  "
            ]
          },
          "metadata": {},
          "execution_count": 12
        }
      ]
    },
    {
      "cell_type": "markdown",
      "metadata": {
        "id": "eWwh9IO3Cpea"
      },
      "source": [
        "Let's scale te data so that all the features are in the same range."
      ]
    },
    {
      "cell_type": "code",
      "metadata": {
        "id": "W4KexaW8ArHU",
        "colab": {
          "base_uri": "https://localhost:8080/",
          "height": 364
        },
        "outputId": "22af6f5c-97ae-42ec-aee2-a7fd3d423e33"
      },
      "source": [
        "scaled_df = pd.DataFrame(StandardScaler().fit_transform(feature_df))\n",
        "scaled_df.describe()"
      ],
      "execution_count": null,
      "outputs": [
        {
          "output_type": "execute_result",
          "data": {
            "text/plain": [
              "                 0             1             2             3             4   \\\n",
              "count  5.000000e+04  5.000000e+04  5.000000e+04  5.000000e+04  5.000000e+04   \n",
              "mean  -2.685248e-15  3.673506e-17  2.840466e-15 -2.754632e-15 -3.410605e-17   \n",
              "std    1.000010e+00  1.000010e+00  1.000010e+00  1.000010e+00  1.000010e+00   \n",
              "min   -3.983892e+00 -4.803505e+00 -4.383861e+00 -4.039425e+00 -4.211395e+00   \n",
              "25%   -6.731628e-01 -6.669110e-01 -6.741398e-01 -6.747933e-01 -6.806646e-01   \n",
              "50%   -5.560891e-04  6.245611e-04  3.698440e-04  3.876942e-03  2.177223e-03   \n",
              "75%    6.748811e-01  6.710380e-01  6.747944e-01  6.734630e-01  6.672187e-01   \n",
              "max    4.183408e+00  4.179946e+00  3.979235e+00  4.259182e+00  4.286980e+00   \n",
              "\n",
              "                 5             6             7             8             9   \\\n",
              "count  5.000000e+04  5.000000e+04  5.000000e+04  5.000000e+04  5.000000e+04   \n",
              "mean  -7.355894e-16  7.206680e-16  7.117080e-15 -2.577139e-15  1.459455e-16   \n",
              "std    1.000010e+00  1.000010e+00  1.000010e+00  1.000010e+00  1.000010e+00   \n",
              "min   -5.662223e+00 -4.731370e+00 -4.645252e+00 -4.215411e+00 -5.365502e+00   \n",
              "25%   -6.728320e-01 -6.795966e-01 -6.655023e-01 -6.715730e-01 -6.815504e-01   \n",
              "50%   -3.317204e-03  4.055422e-04 -3.983282e-02  1.115045e-03 -6.350909e-03   \n",
              "75%    6.672769e-01  6.756567e-01  5.999307e-01  6.733758e-01  6.742793e-01   \n",
              "max    4.367998e+00  4.550630e+00  6.276554e+00  4.074146e+00  4.061272e+00   \n",
              "\n",
              "                 10            11            12            13            14  \n",
              "count  5.000000e+04  5.000000e+04  5.000000e+04  5.000000e+04  5.000000e+04  \n",
              "mean  -1.463185e-15  1.060165e-15  3.232969e-17 -4.041567e-16 -7.138112e-15  \n",
              "std    1.000010e+00  1.000010e+00  1.000010e+00  1.000010e+00  1.000010e+00  \n",
              "min   -6.294284e+00 -4.022259e+00 -4.650786e+00 -4.554015e+00 -4.082852e+00  \n",
              "25%   -6.496603e-01 -6.579693e-01 -6.733488e-01 -6.670880e-01 -6.775885e-01  \n",
              "50%   -1.789851e-03 -3.432807e-02  4.735407e-04  1.415230e-02 -4.949101e-03  \n",
              "75%    6.478463e-01  6.141240e-01  6.765988e-01  6.805882e-01  6.636105e-01  \n",
              "max    5.789933e+00  6.858409e+00  4.213197e+00  4.401419e+00  4.083486e+00  "
            ],
            "text/html": [
              "\n",
              "  <div id=\"df-437f31b7-7ef3-4487-83a7-ae1ea8a4a9e3\">\n",
              "    <div class=\"colab-df-container\">\n",
              "      <div>\n",
              "<style scoped>\n",
              "    .dataframe tbody tr th:only-of-type {\n",
              "        vertical-align: middle;\n",
              "    }\n",
              "\n",
              "    .dataframe tbody tr th {\n",
              "        vertical-align: top;\n",
              "    }\n",
              "\n",
              "    .dataframe thead th {\n",
              "        text-align: right;\n",
              "    }\n",
              "</style>\n",
              "<table border=\"1\" class=\"dataframe\">\n",
              "  <thead>\n",
              "    <tr style=\"text-align: right;\">\n",
              "      <th></th>\n",
              "      <th>0</th>\n",
              "      <th>1</th>\n",
              "      <th>2</th>\n",
              "      <th>3</th>\n",
              "      <th>4</th>\n",
              "      <th>5</th>\n",
              "      <th>6</th>\n",
              "      <th>7</th>\n",
              "      <th>8</th>\n",
              "      <th>9</th>\n",
              "      <th>10</th>\n",
              "      <th>11</th>\n",
              "      <th>12</th>\n",
              "      <th>13</th>\n",
              "      <th>14</th>\n",
              "    </tr>\n",
              "  </thead>\n",
              "  <tbody>\n",
              "    <tr>\n",
              "      <th>count</th>\n",
              "      <td>5.000000e+04</td>\n",
              "      <td>5.000000e+04</td>\n",
              "      <td>5.000000e+04</td>\n",
              "      <td>5.000000e+04</td>\n",
              "      <td>5.000000e+04</td>\n",
              "      <td>5.000000e+04</td>\n",
              "      <td>5.000000e+04</td>\n",
              "      <td>5.000000e+04</td>\n",
              "      <td>5.000000e+04</td>\n",
              "      <td>5.000000e+04</td>\n",
              "      <td>5.000000e+04</td>\n",
              "      <td>5.000000e+04</td>\n",
              "      <td>5.000000e+04</td>\n",
              "      <td>5.000000e+04</td>\n",
              "      <td>5.000000e+04</td>\n",
              "    </tr>\n",
              "    <tr>\n",
              "      <th>mean</th>\n",
              "      <td>-2.685248e-15</td>\n",
              "      <td>3.673506e-17</td>\n",
              "      <td>2.840466e-15</td>\n",
              "      <td>-2.754632e-15</td>\n",
              "      <td>-3.410605e-17</td>\n",
              "      <td>-7.355894e-16</td>\n",
              "      <td>7.206680e-16</td>\n",
              "      <td>7.117080e-15</td>\n",
              "      <td>-2.577139e-15</td>\n",
              "      <td>1.459455e-16</td>\n",
              "      <td>-1.463185e-15</td>\n",
              "      <td>1.060165e-15</td>\n",
              "      <td>3.232969e-17</td>\n",
              "      <td>-4.041567e-16</td>\n",
              "      <td>-7.138112e-15</td>\n",
              "    </tr>\n",
              "    <tr>\n",
              "      <th>std</th>\n",
              "      <td>1.000010e+00</td>\n",
              "      <td>1.000010e+00</td>\n",
              "      <td>1.000010e+00</td>\n",
              "      <td>1.000010e+00</td>\n",
              "      <td>1.000010e+00</td>\n",
              "      <td>1.000010e+00</td>\n",
              "      <td>1.000010e+00</td>\n",
              "      <td>1.000010e+00</td>\n",
              "      <td>1.000010e+00</td>\n",
              "      <td>1.000010e+00</td>\n",
              "      <td>1.000010e+00</td>\n",
              "      <td>1.000010e+00</td>\n",
              "      <td>1.000010e+00</td>\n",
              "      <td>1.000010e+00</td>\n",
              "      <td>1.000010e+00</td>\n",
              "    </tr>\n",
              "    <tr>\n",
              "      <th>min</th>\n",
              "      <td>-3.983892e+00</td>\n",
              "      <td>-4.803505e+00</td>\n",
              "      <td>-4.383861e+00</td>\n",
              "      <td>-4.039425e+00</td>\n",
              "      <td>-4.211395e+00</td>\n",
              "      <td>-5.662223e+00</td>\n",
              "      <td>-4.731370e+00</td>\n",
              "      <td>-4.645252e+00</td>\n",
              "      <td>-4.215411e+00</td>\n",
              "      <td>-5.365502e+00</td>\n",
              "      <td>-6.294284e+00</td>\n",
              "      <td>-4.022259e+00</td>\n",
              "      <td>-4.650786e+00</td>\n",
              "      <td>-4.554015e+00</td>\n",
              "      <td>-4.082852e+00</td>\n",
              "    </tr>\n",
              "    <tr>\n",
              "      <th>25%</th>\n",
              "      <td>-6.731628e-01</td>\n",
              "      <td>-6.669110e-01</td>\n",
              "      <td>-6.741398e-01</td>\n",
              "      <td>-6.747933e-01</td>\n",
              "      <td>-6.806646e-01</td>\n",
              "      <td>-6.728320e-01</td>\n",
              "      <td>-6.795966e-01</td>\n",
              "      <td>-6.655023e-01</td>\n",
              "      <td>-6.715730e-01</td>\n",
              "      <td>-6.815504e-01</td>\n",
              "      <td>-6.496603e-01</td>\n",
              "      <td>-6.579693e-01</td>\n",
              "      <td>-6.733488e-01</td>\n",
              "      <td>-6.670880e-01</td>\n",
              "      <td>-6.775885e-01</td>\n",
              "    </tr>\n",
              "    <tr>\n",
              "      <th>50%</th>\n",
              "      <td>-5.560891e-04</td>\n",
              "      <td>6.245611e-04</td>\n",
              "      <td>3.698440e-04</td>\n",
              "      <td>3.876942e-03</td>\n",
              "      <td>2.177223e-03</td>\n",
              "      <td>-3.317204e-03</td>\n",
              "      <td>4.055422e-04</td>\n",
              "      <td>-3.983282e-02</td>\n",
              "      <td>1.115045e-03</td>\n",
              "      <td>-6.350909e-03</td>\n",
              "      <td>-1.789851e-03</td>\n",
              "      <td>-3.432807e-02</td>\n",
              "      <td>4.735407e-04</td>\n",
              "      <td>1.415230e-02</td>\n",
              "      <td>-4.949101e-03</td>\n",
              "    </tr>\n",
              "    <tr>\n",
              "      <th>75%</th>\n",
              "      <td>6.748811e-01</td>\n",
              "      <td>6.710380e-01</td>\n",
              "      <td>6.747944e-01</td>\n",
              "      <td>6.734630e-01</td>\n",
              "      <td>6.672187e-01</td>\n",
              "      <td>6.672769e-01</td>\n",
              "      <td>6.756567e-01</td>\n",
              "      <td>5.999307e-01</td>\n",
              "      <td>6.733758e-01</td>\n",
              "      <td>6.742793e-01</td>\n",
              "      <td>6.478463e-01</td>\n",
              "      <td>6.141240e-01</td>\n",
              "      <td>6.765988e-01</td>\n",
              "      <td>6.805882e-01</td>\n",
              "      <td>6.636105e-01</td>\n",
              "    </tr>\n",
              "    <tr>\n",
              "      <th>max</th>\n",
              "      <td>4.183408e+00</td>\n",
              "      <td>4.179946e+00</td>\n",
              "      <td>3.979235e+00</td>\n",
              "      <td>4.259182e+00</td>\n",
              "      <td>4.286980e+00</td>\n",
              "      <td>4.367998e+00</td>\n",
              "      <td>4.550630e+00</td>\n",
              "      <td>6.276554e+00</td>\n",
              "      <td>4.074146e+00</td>\n",
              "      <td>4.061272e+00</td>\n",
              "      <td>5.789933e+00</td>\n",
              "      <td>6.858409e+00</td>\n",
              "      <td>4.213197e+00</td>\n",
              "      <td>4.401419e+00</td>\n",
              "      <td>4.083486e+00</td>\n",
              "    </tr>\n",
              "  </tbody>\n",
              "</table>\n",
              "</div>\n",
              "      <button class=\"colab-df-convert\" onclick=\"convertToInteractive('df-437f31b7-7ef3-4487-83a7-ae1ea8a4a9e3')\"\n",
              "              title=\"Convert this dataframe to an interactive table.\"\n",
              "              style=\"display:none;\">\n",
              "        \n",
              "  <svg xmlns=\"http://www.w3.org/2000/svg\" height=\"24px\"viewBox=\"0 0 24 24\"\n",
              "       width=\"24px\">\n",
              "    <path d=\"M0 0h24v24H0V0z\" fill=\"none\"/>\n",
              "    <path d=\"M18.56 5.44l.94 2.06.94-2.06 2.06-.94-2.06-.94-.94-2.06-.94 2.06-2.06.94zm-11 1L8.5 8.5l.94-2.06 2.06-.94-2.06-.94L8.5 2.5l-.94 2.06-2.06.94zm10 10l.94 2.06.94-2.06 2.06-.94-2.06-.94-.94-2.06-.94 2.06-2.06.94z\"/><path d=\"M17.41 7.96l-1.37-1.37c-.4-.4-.92-.59-1.43-.59-.52 0-1.04.2-1.43.59L10.3 9.45l-7.72 7.72c-.78.78-.78 2.05 0 2.83L4 21.41c.39.39.9.59 1.41.59.51 0 1.02-.2 1.41-.59l7.78-7.78 2.81-2.81c.8-.78.8-2.07 0-2.86zM5.41 20L4 18.59l7.72-7.72 1.47 1.35L5.41 20z\"/>\n",
              "  </svg>\n",
              "      </button>\n",
              "      \n",
              "  <style>\n",
              "    .colab-df-container {\n",
              "      display:flex;\n",
              "      flex-wrap:wrap;\n",
              "      gap: 12px;\n",
              "    }\n",
              "\n",
              "    .colab-df-convert {\n",
              "      background-color: #E8F0FE;\n",
              "      border: none;\n",
              "      border-radius: 50%;\n",
              "      cursor: pointer;\n",
              "      display: none;\n",
              "      fill: #1967D2;\n",
              "      height: 32px;\n",
              "      padding: 0 0 0 0;\n",
              "      width: 32px;\n",
              "    }\n",
              "\n",
              "    .colab-df-convert:hover {\n",
              "      background-color: #E2EBFA;\n",
              "      box-shadow: 0px 1px 2px rgba(60, 64, 67, 0.3), 0px 1px 3px 1px rgba(60, 64, 67, 0.15);\n",
              "      fill: #174EA6;\n",
              "    }\n",
              "\n",
              "    [theme=dark] .colab-df-convert {\n",
              "      background-color: #3B4455;\n",
              "      fill: #D2E3FC;\n",
              "    }\n",
              "\n",
              "    [theme=dark] .colab-df-convert:hover {\n",
              "      background-color: #434B5C;\n",
              "      box-shadow: 0px 1px 3px 1px rgba(0, 0, 0, 0.15);\n",
              "      filter: drop-shadow(0px 1px 2px rgba(0, 0, 0, 0.3));\n",
              "      fill: #FFFFFF;\n",
              "    }\n",
              "  </style>\n",
              "\n",
              "      <script>\n",
              "        const buttonEl =\n",
              "          document.querySelector('#df-437f31b7-7ef3-4487-83a7-ae1ea8a4a9e3 button.colab-df-convert');\n",
              "        buttonEl.style.display =\n",
              "          google.colab.kernel.accessAllowed ? 'block' : 'none';\n",
              "\n",
              "        async function convertToInteractive(key) {\n",
              "          const element = document.querySelector('#df-437f31b7-7ef3-4487-83a7-ae1ea8a4a9e3');\n",
              "          const dataTable =\n",
              "            await google.colab.kernel.invokeFunction('convertToInteractive',\n",
              "                                                     [key], {});\n",
              "          if (!dataTable) return;\n",
              "\n",
              "          const docLinkHtml = 'Like what you see? Visit the ' +\n",
              "            '<a target=\"_blank\" href=https://colab.research.google.com/notebooks/data_table.ipynb>data table notebook</a>'\n",
              "            + ' to learn more about interactive tables.';\n",
              "          element.innerHTML = '';\n",
              "          dataTable['output_type'] = 'display_data';\n",
              "          await google.colab.output.renderOutput(dataTable, element);\n",
              "          const docLink = document.createElement('div');\n",
              "          docLink.innerHTML = docLinkHtml;\n",
              "          element.appendChild(docLink);\n",
              "        }\n",
              "      </script>\n",
              "    </div>\n",
              "  </div>\n",
              "  "
            ]
          },
          "metadata": {},
          "execution_count": 13
        }
      ]
    },
    {
      "cell_type": "markdown",
      "metadata": {
        "id": "6OKdd5bNC8SC"
      },
      "source": [
        "Now to split the data into training and testing."
      ]
    },
    {
      "cell_type": "code",
      "metadata": {
        "id": "KbrilX-zCG-o",
        "colab": {
          "base_uri": "https://localhost:8080/"
        },
        "outputId": "8253cf40-55e4-4536-b85c-961cef6a4118"
      },
      "source": [
        "# split into 80:20 ration\n",
        "X_train, X_test, y_train, y_test = train_test_split(scaled_df.values, target_df.values, test_size = 0.2, random_state = 2019)\n",
        "\n",
        "# describes info about train and test set\n",
        "print(\"Number transactions X_train dataset: \", X_train.shape)\n",
        "print(\"Number transactions y_train dataset: \", y_train.shape)\n",
        "print(\"Number transactions X_test dataset: \", X_test.shape)\n",
        "print(\"Number transactions y_test dataset: \", y_test.shape)"
      ],
      "execution_count": null,
      "outputs": [
        {
          "output_type": "stream",
          "name": "stdout",
          "text": [
            "Number transactions X_train dataset:  (40000, 15)\n",
            "Number transactions y_train dataset:  (40000,)\n",
            "Number transactions X_test dataset:  (10000, 15)\n",
            "Number transactions y_test dataset:  (10000,)\n"
          ]
        }
      ]
    },
    {
      "cell_type": "markdown",
      "metadata": {
        "id": "-OlNdp1fDVBi"
      },
      "source": [
        "Now train the model without handling the imbalanced class distribution."
      ]
    },
    {
      "cell_type": "code",
      "metadata": {
        "id": "YGRbZa6tDL8O",
        "colab": {
          "base_uri": "https://localhost:8080/"
        },
        "outputId": "801b0b21-6f8e-4b40-b64b-869b28641840"
      },
      "source": [
        "# logistic regression object\n",
        "lr = LogisticRegression(max_iter=1000)\n",
        "\n",
        "# train the model on train set\n",
        "lr.fit(X_train, y_train.ravel())\n",
        "\n",
        "predictions = lr.predict(X_test)\n",
        "\n",
        "# print classification report\n",
        "print(classification_report(y_test, predictions))\n"
      ],
      "execution_count": null,
      "outputs": [
        {
          "output_type": "stream",
          "name": "stdout",
          "text": [
            "              precision    recall  f1-score   support\n",
            "\n",
            "           0       0.84      0.99      0.91      8149\n",
            "           1       0.83      0.17      0.28      1851\n",
            "\n",
            "    accuracy                           0.84     10000\n",
            "   macro avg       0.84      0.58      0.59     10000\n",
            "weighted avg       0.84      0.84      0.79     10000\n",
            "\n"
          ]
        }
      ]
    },
    {
      "cell_type": "markdown",
      "metadata": {
        "id": "Z5LBrBG3DlTB"
      },
      "source": [
        "The accuracy comes out to be `84%` but did you notice something strange?\n",
        "\n",
        "The _recall_ of the minority class (`1`) in very low. It proves that the model is more biased towards majority class (`0`). So, it proves that this is not the best model.\n",
        "\n",
        "Now, we will apply the SMOTE techniques and see the changes in the model performance.\n",
        "\n",
        "__NOTE__: we only performs SMOTE, or any other balancing technique, on the __training__ dataset. You should __never__ touch the test data.\n",
        "\n",
        "First, let's look at the original distribution again.\n"
      ]
    },
    {
      "cell_type": "code",
      "metadata": {
        "id": "oahJ-eEXDanX",
        "colab": {
          "base_uri": "https://localhost:8080/"
        },
        "outputId": "da1fdfc1-11a2-4415-f4db-4f5628f844bb"
      },
      "source": [
        "print(\"Before OverSampling, counts of label '1': {}\".format(sum(y_train == 1)))\n",
        "print(\"Before OverSampling, counts of label '0': {} \\n\".format(sum(y_train == 0)))"
      ],
      "execution_count": null,
      "outputs": [
        {
          "output_type": "stream",
          "name": "stdout",
          "text": [
            "Before OverSampling, counts of label '1': 7419\n",
            "Before OverSampling, counts of label '0': 32581 \n",
            "\n"
          ]
        }
      ]
    },
    {
      "cell_type": "code",
      "metadata": {
        "id": "WXdhNpE2E7U0",
        "colab": {
          "base_uri": "https://localhost:8080/"
        },
        "outputId": "b5f08a0f-257b-4355-d376-a483114f54da"
      },
      "source": [
        "sm = SMOTE(random_state = 123)\n",
        "X_train_res, y_train_res = sm.fit_resample(X_train, y_train)\n",
        "\n",
        "print('After OverSampling, the shape of train_X: {}'.format(X_train_res.shape))\n",
        "print('After OverSampling, the shape of train_y: {} \\n'.format(y_train_res.shape))\n",
        "\n",
        "print(\"After OverSampling, counts of label '1': {}\".format(sum(y_train_res == 1)))\n",
        "print(\"After OverSampling, counts of label '0': {}\".format(sum(y_train_res == 0)))\n"
      ],
      "execution_count": null,
      "outputs": [
        {
          "output_type": "stream",
          "name": "stdout",
          "text": [
            "After OverSampling, the shape of train_X: (65162, 15)\n",
            "After OverSampling, the shape of train_y: (65162,) \n",
            "\n",
            "After OverSampling, counts of label '1': 32581\n",
            "After OverSampling, counts of label '0': 32581\n"
          ]
        }
      ]
    },
    {
      "cell_type": "markdown",
      "metadata": {
        "id": "0nFWldl-FP-T"
      },
      "source": [
        "Look that SMOTE Algorithm has oversampled the instances in the minority and made it equal to majority class (`32,581`). Both categories have equal amount of records. Accordingly, we see the overall size the training set increased from `32,581` to `65,162`. _Note_ that the additional `32,581` instances are synthesized and they are not in the actual data - hence, we introduce error in the dataset and then in our model.\n",
        "\n",
        "Now see the accuracy and recall results after applying SMOTE algorithm (Oversampling)."
      ]
    },
    {
      "cell_type": "code",
      "metadata": {
        "id": "C38yvAQuFKit",
        "colab": {
          "base_uri": "https://localhost:8080/"
        },
        "outputId": "572e33b0-fb65-466c-96b0-78420b5e7bf3"
      },
      "source": [
        "lr1 = LogisticRegression(max_iter=1000)\n",
        "lr1.fit(X_train_res, y_train_res)\n",
        "y_pred = lr1.predict(X_test)\n",
        "\n",
        "# print classification report\n",
        "print(classification_report(y_test, y_pred))\n"
      ],
      "execution_count": null,
      "outputs": [
        {
          "output_type": "stream",
          "name": "stdout",
          "text": [
            "              precision    recall  f1-score   support\n",
            "\n",
            "           0       0.85      0.71      0.77      8149\n",
            "           1       0.25      0.43      0.32      1851\n",
            "\n",
            "    accuracy                           0.66     10000\n",
            "   macro avg       0.55      0.57      0.54     10000\n",
            "weighted avg       0.74      0.66      0.69     10000\n",
            "\n"
          ]
        }
      ]
    },
    {
      "cell_type": "markdown",
      "metadata": {
        "id": "IPQyizHBGrVX"
      },
      "source": [
        "Wait, what? We see a huge descrease in model accuracy from `84%` to `66%`. Nobody likes that kind of drop, correct?\n",
        "\n",
        "That is simply not true. When we had `84%` as the accuracy of the initial model, we are comparing against a threshold of `95%`. Why?\n",
        "\n",
        "Since if we assign all the instances in the testing set to the majority class (`0`), or simply by __random guessing__, we get an accuracy of `95%`. In that sense, our model is <span style=\"color:red\"> __11% worse__ </span> than random guessing. Clearly that is not a good model.\n",
        "\n",
        "Now let's look at the modeling results after resampling. We are comparing against the threshold of `50%` (random guessing, since we have equal amounts of instances in the two classes). Thus, we result in a <span style=\"color:blue\"> __16% increase__ </span> by applying SMOTE. Also, we notice that the recall in the minority class increased by `0.26`, which means our new model is more capable of capturing the pattern(s) in the minority class.\n",
        "\n",
        "SMOTE clearly works in our favor. But still, we introduced error in our dataset, you can observe that in the declined performance in the results toward the majority class.\n",
        "\n",
        "That is why we need to try the NearMiss (undersampling) method."
      ]
    },
    {
      "cell_type": "markdown",
      "metadata": {
        "id": "YnJy68yQJOI9"
      },
      "source": [
        "## How NearMiss works?\n",
        "\n",
        "- NearMiss is an under-sampling technique. It aims to balance class distribution by __randomly eliminating__ majority class examples.\n",
        "\n",
        "- To prevent problem of information loss in most under-sampling techniques, __near-neighbor__ methods are widely used.\n",
        "\n",
        "- The basic intuition about the working of near-neighbor methods is as follows:\n",
        "\n",
        "  - __Step 1__: The method first finds the distances between all instances of the majority class and the instances of the minority class. Here, __majority class__ is to be under-sampled.\n",
        "  - __Step 2__: Then, $n$ instances of the majority class that have the __smallest distances__ to the minority class are selected.\n",
        "  - __Step 3__: If there are $k$ instances in the minority class, the nearest method will result in $k \\times n$ instances of the majority class.\n",
        "\n",
        "Key difference to SMOTE: NearMiss works on both the majority and minority classes, where as SMOTE only works on the minority class."
      ]
    },
    {
      "cell_type": "markdown",
      "metadata": {
        "id": "hv0e8-uCZRNq"
      },
      "source": [
        "<!-- # How NearMiss works? -->\n",
        "- For finding $n$ closest instances in the majority class, there are several variations of applying NearMiss Algorithm :\n",
        "\n",
        "  - Version 1: It selects samples of the majority class for which _average_ distances to the $k$ __closest__ instances of the minority class is _smallest_.\n",
        "  - Version 2: It selects samples of the majority class for which _average_ distances to the $k$ __farthest__ instances of the minority class is _smallest_.\n",
        "  - Version 3: It works in 2 steps.\n",
        "    - Firstly, for each minority class instance, their $M$ nearest-neighbors will be stored.\n",
        "    - Secondly, the majority class instances are selected for which the average distance to the $N$ nearest-neighbors is the _largest_.\n",
        "\n",
        "Let's look at the original class distribution again."
      ]
    },
    {
      "cell_type": "code",
      "metadata": {
        "id": "mxHaj1khGKv0",
        "colab": {
          "base_uri": "https://localhost:8080/"
        },
        "outputId": "8efb635a-a0b4-469d-f3da-240eca7918d2"
      },
      "source": [
        "print(\"Before Undersampling, counts of label '1': {}\".format(sum(y_train == 1)))\n",
        "print(\"Before Undersampling, counts of label '0': {} \\n\".format(sum(y_train == 0)))"
      ],
      "execution_count": null,
      "outputs": [
        {
          "output_type": "stream",
          "name": "stdout",
          "text": [
            "Before Undersampling, counts of label '1': 7419\n",
            "Before Undersampling, counts of label '0': 32581 \n",
            "\n"
          ]
        }
      ]
    },
    {
      "cell_type": "code",
      "metadata": {
        "id": "kxSaRkC_aayw",
        "colab": {
          "base_uri": "https://localhost:8080/"
        },
        "outputId": "f81ccd94-d593-4664-e1e9-deb7c4021cfe"
      },
      "source": [
        "# apply near miss\n",
        "\n",
        "nr = NearMiss()\n",
        "\n",
        "X_train_miss, y_train_miss = nr.fit_resample(X_train, y_train)\n",
        "\n",
        "print('After Undersampling, the shape of train_X: {}'.format(X_train_miss.shape))\n",
        "print('After Undersampling, the shape of train_y: {} \\n'.format(y_train_miss.shape))\n",
        "\n",
        "print(\"After Undersampling, counts of label '1': {}\".format(sum(y_train_miss == 1)))\n",
        "print(\"After Undersampling, counts of label '0': {}\".format(sum(y_train_miss == 0)))"
      ],
      "execution_count": null,
      "outputs": [
        {
          "output_type": "stream",
          "name": "stdout",
          "text": [
            "After Undersampling, the shape of train_X: (14838, 15)\n",
            "After Undersampling, the shape of train_y: (14838,) \n",
            "\n",
            "After Undersampling, counts of label '1': 7419\n",
            "After Undersampling, counts of label '0': 7419\n"
          ]
        }
      ]
    },
    {
      "cell_type": "markdown",
      "metadata": {
        "id": "2bcrXXgqaiQV"
      },
      "source": [
        "The NearMiss Algorithm has undersampled the majority instances and made it equal to majority class. Here, the majority class has been reduced to the total number of minority class (`14,838`), so that both classes will have equal number of records. __Note__ that by doing so, we lost $ 32,581 - 14,838 = 17,743 $ intances in the majority class. Hence, we will observe a loss in the model performance.\n",
        "\n",
        "Let's check out the modeling results after applying the NearMiss technique on the data."
      ]
    },
    {
      "cell_type": "code",
      "metadata": {
        "id": "IuZhpZsGaeTZ",
        "colab": {
          "base_uri": "https://localhost:8080/"
        },
        "outputId": "5354c34b-76be-4128-8eef-50d14b1186d0"
      },
      "source": [
        "# train the model on train set\n",
        "lr2 = LogisticRegression(max_iter=1000)\n",
        "lr2.fit(X_train_miss, y_train_miss)\n",
        "y_pred = lr2.predict(X_test)\n",
        "\n",
        "# print classification report\n",
        "print(classification_report(y_test, y_pred))"
      ],
      "execution_count": null,
      "outputs": [
        {
          "output_type": "stream",
          "name": "stdout",
          "text": [
            "              precision    recall  f1-score   support\n",
            "\n",
            "           0       0.85      0.68      0.75      8149\n",
            "           1       0.25      0.46      0.32      1851\n",
            "\n",
            "    accuracy                           0.64     10000\n",
            "   macro avg       0.55      0.57      0.54     10000\n",
            "weighted avg       0.74      0.64      0.67     10000\n",
            "\n"
          ]
        }
      ]
    },
    {
      "cell_type": "markdown",
      "metadata": {
        "id": "NGSAZa8ebczh"
      },
      "source": [
        "Similarly, we observe a decline in the modeling performance (e.g. acc: `84%` -> `64%`). But using the same logic as we analyzing the SMOTE results, we know that now we have an edge of $+14\\%$ over random guessing.\n",
        "\n",
        "In addition, by comparing the SMOTE and NearMiss results, we know that the SMOTE leads to better results - it is because we did not lose much data as we do in the NearMiss scenario. Thus, we can go with the SMOTE technique here."
      ]
    },
    {
      "cell_type": "markdown",
      "metadata": {
        "id": "UZNelfG0dAWD"
      },
      "source": [
        "## Conclusion\n",
        "\n",
        "Now we understand how oversampling (__SMOTE__) and undersampling (__NearMiss__) work, and how do we use them in balancing the imbalanced dataset.\n",
        "\n",
        "They both have their own pros and cons, so you should choose them wisely. Additionally, researchers and data scientists are working on merging the two, or in general oversampling and undersampling together, to battle with imbalanced datasets. If you are interested, please [let me know](mailto:jtao@fairfield.edu)."
      ]
    },
    {
      "cell_type": "markdown",
      "metadata": {
        "id": "odLM93c5eNtr"
      },
      "source": [
        "## References\n",
        "\n",
        "1. [Imbalance-Learn examples](http://glemaitre.github.io/imbalanced-learn/auto_examples/index.html)\n",
        "2. [ML | Handling Imbalanced Data with SMOTE and Near Miss Algorithm in Python](https://www.geeksforgeeks.org/ml-handling-imbalanced-data-with-smote-and-near-miss-algorithm-in-python/)\n",
        "3. [SMOTE Oversampling for Imbalanced Classification with Python](https://machinelearningmastery.com/smote-oversampling-for-imbalanced-classification/)\n",
        "4. [Survey of resampling techniques for improving classification performance in unbalanced datasets - research article](https://arxiv.org/pdf/1608.06048.pdf)\n",
        "5. [Undersampling Algorithms for Imbalanced Classification](https://machinelearningmastery.com/undersampling-algorithms-for-imbalanced-classification/)"
      ]
    },
    {
      "cell_type": "code",
      "metadata": {
        "id": "pLWSHV-bbVjX"
      },
      "source": [],
      "execution_count": null,
      "outputs": []
    }
  ]
}