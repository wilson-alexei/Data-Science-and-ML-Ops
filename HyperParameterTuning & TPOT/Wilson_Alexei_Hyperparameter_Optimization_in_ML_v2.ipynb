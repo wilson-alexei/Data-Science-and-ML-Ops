{
  "nbformat": 4,
  "nbformat_minor": 0,
  "metadata": {
    "colab": {
      "provenance": [],
      "collapsed_sections": [
        "qlfHzpg4eP79",
        "_effwwSMeP79"
      ]
    },
    "kernelspec": {
      "display_name": "Python 3",
      "language": "python",
      "name": "python3"
    },
    "language_info": {
      "codemirror_mode": {
        "name": "ipython",
        "version": 3
      },
      "file_extension": ".py",
      "mimetype": "text/x-python",
      "name": "python",
      "nbconvert_exporter": "python",
      "pygments_lexer": "ipython3",
      "version": "3.7.5"
    }
  },
  "cells": [
    {
      "cell_type": "markdown",
      "metadata": {
        "id": "w4BYyYQHeP7G"
      },
      "source": [
        "# Hyperparameter Optimization in Machine Learning Models\n",
        "This tutorial covers what a parameter and a hyperparameter are in a machine learning model along with why it is vital in order to enhance your model’s performance.\n",
        "Machine learning involves predicting and classifying data and to do so, you employ various machine learning models according to the dataset. Machine learning models are **parameterized** so that their behavior can be **tuned** for a given problem. These models can have many parameters and finding the best combination of parameters can be treated as a search problem. But this very term called parameter may appear unfamiliar to you if you are new to applied machine learning. But don’t worry! You will get to know about it in the very first place of this blog, and you will also discover what the difference between a **parameter** and a **hyperparameter** of a machine learning model is. This blog consists of following sections:\n",
        "\n",
        "- What are a parameter and a hyperparameter in a machine learning model?\n",
        "- Why hyperparameter optimization/tuning is vital in order to enhance your model’s performance?\n",
        "- Two simple strategies to optimize/tune the hyperparameters\n",
        "- A simple case study in Python with the two strategies\n",
        "\n",
        "Let’s straight jump into the first section!"
      ]
    },
    {
      "cell_type": "markdown",
      "metadata": {
        "id": "RSy69ixheP7H"
      },
      "source": [
        "## What is a parameter in a machine learning learning model?\n",
        "A model parameter is a **configuration variable** that is internal to the model and whose value can be estimated from the given data.\n",
        "\n",
        "- They are required by the model when making predictions.\n",
        "- Their values define the skill of the model on your problem.\n",
        "- They are estimated or learned from data.\n",
        "- They are often not set manually by the practitioner.\n",
        "- They are often saved as part of the learned model.\n",
        "\n",
        "So your main take away from the above points should be parameters are crucial to machine learning algorithms. Also, they are the part of the model that is **learned from historical training data**. Let’s dig it a bit deeper. Think of the function parameters that you use while programming in general. You may pass a parameter to a function. In this case, a parameter is a function argument that could have one of a range of values. In machine learning, the specific model you are using is the function and requires parameters in order to make a prediction on new data. Whether a model has a fixed or variable number of parameters determines whether it may be referred to as “parametric” or “nonparametric“.\n",
        "\n",
        "Some examples of model parameters include:\n",
        "- The weights in an artificial neural network.\n",
        "- The support vectors in a support vector machine.\n",
        "- The coefficients in a linear regression or logistic regression.\n",
        "\n",
        "__NOTE__: Determining the best set of parameters is the essential step of training __any__ machine learning models. As you saw before, using the same modeling technique and the same training data, the model performance can be different - that is because that different parameters are learnt."
      ]
    },
    {
      "cell_type": "markdown",
      "metadata": {
        "id": "g_osVnhYeP7I"
      },
      "source": [
        "## What is a hyperparameter in a machine learning learning model?\n",
        "A model hyperparameter is a configuration that is __external__ to the model and whose value __cannot be estimated__ from data.\n",
        "\n",
        "- They are often used in processes to help estimate model parameters.\n",
        "- They are often specified by the practitioner (manually).\n",
        "- They can often be set using heuristics (rules-of-thumb).\n",
        "- They are often tuned for a given predictive modeling problem (problem-specific).\n",
        "\n",
        "You cannot know the best value for a model hyperparameter on a given problem. You may use:\n",
        "1. rules of thumb,\n",
        "2. copy values used on other issues,\n",
        "3. or search for the best value by trial and error.\n",
        "\n",
        "When a machine learning algorithm is tuned for a specific problem then essentially you are tuning the hyperparameters of the model to discover the parameters of the model that result in the most skillful predictions.\n",
        "\n",
        "According to a very popular book called “Applied Predictive Modelling” - “Many models have important parameters which cannot be directly estimated from the data. For example, in the K-nearest neighbor classification model … This type of model parameter is referred to as a tuning parameter because there is no analytical formula available to calculate an appropriate value.”\n",
        "\n",
        "Model hyperparameters are often referred to as model parameters which can make things confusing. A good rule of thumb to overcome this confusion is as follows: “If you have to specify a model parameter **manually**, then it is probably a model hyperparameter. ” Some examples of model hyperparameters include:\n",
        "\n",
        "- The learning rate for training a neural network.\n",
        "- The C and sigma hyperparameters for support vector machines.\n",
        "- The k in k-nearest neighbors.\n",
        "\n",
        "In the next section, you will discover the importance of the right set of hyperparameter values in a machine learning model."
      ]
    },
    {
      "cell_type": "markdown",
      "metadata": {
        "id": "m-9pOPB_eP7I"
      },
      "source": [
        "## Importance of the right set of hyperparameter values in a machine learning model:\n",
        "\n",
        "The best way to think about hyperparameters is like the settings of an algorithm that can be adjusted to optimize performance, just as you might *turn the knobs of an AM radio to get a clear signal*. When creating a machine learning model, you'll be presented with design choices as to how to define your model architecture. Often, you don't immediately know what the **optimal** model architecture should be for a given model, and thus you'd like to be able to explore a range of possibilities. In a true machine learning fashion, you’ll ideally ask the machine to perform this exploration and select the optimal model architecture automatically.\n",
        "\n",
        "__NOTE__: Do not forget feature engineering, aside from hyperparameter optimization, is another way of tweaking models for better performances.\n",
        "\n",
        "You will see in the case study section on how the right choice of hyperparameter values affect the performance of a machine learning model. In this context, choosing the right set of values is typically known as “Hyperparameter optimization” or “Hyperparameter tuning”."
      ]
    },
    {
      "cell_type": "markdown",
      "metadata": {
        "id": "egftl2gQeP7J"
      },
      "source": [
        "## Two simple strategies to optimize/tune the hyperparameters:\n",
        "\n",
        "Models can have many hyperparameters and finding the best combination of parameters can be treated as a search problem.\n",
        "\n",
        "Although there are many hyperparameter optimization/tuning algorithms now, this post discusses two simple strategies:\n",
        "\n",
        "1. grid search and\n",
        "2. Random Search.\n",
        "\n",
        "### Grid searching of hyperparameters:\n",
        "Grid search is an approach to hyperparameter tuning that will methodically build and evaluate a model for each combination of algorithm parameters specified in a grid.\n",
        "\n",
        "Let’s consider the following example:\n",
        "\n",
        "Suppose, a machine learning model `X` takes hyperparameters `a1`, `a2` and `a3.` In grid searching, you first define the range of values for each of the hyperparameters `a1`, `a2` and `a3`. You can think of this as an array of values for each of the hyperparameters. __NOTE__ that the ranges are usually heuristic. Now the grid search technique will construct many versions of `X` with all the possible combinations of hyperparameter (`a1`, `a2` and `a3`) values that you defined in the first place. This range of hyperparameter values is referred to as the grid.\n",
        "\n",
        "Suppose, you defined the grid as - __Note__ that usually the range of a hyperparameter is NOT continuous:\n",
        "`a1 = [0,1,2,3,4,5]`\n",
        "`a2 = [10,20,30,40,50,60]`\n",
        "`a3 = [105,105,110,115,120,125]`\n",
        "\n",
        "Note that, the array of values of that you are defining for the hyperparameters has to be legitimate in a sense that you cannot supply Floating type values to the array if the hyperparameter only takes Integer values.\n",
        "\n",
        "Now, grid search will begin its process of constructing several versions of X with the grid that you just defined.\n",
        "\n",
        "It will start with the combination of `[0,10,105]`, and it will end with `[5,60,125]`. It will go through all the intermediate combinations between these two which makes grid search computationally very expensive.\n",
        "\n",
        "Let’s take a look at the other search technique Random search:\n",
        "\n",
        "### Random searching of hyperparameters:\n",
        "The idea of random searching of hyperparameters was proposed by James Bergstra & Yoshua Bengio. You can check the original paper [here](http://www.jmlr.org/papers/volume13/bergstra12a/bergstra12a.pdf).\n",
        "\n",
        "Random search differs from a grid search. In that you longer provide a discrete set of values to explore for each hyperparameter; rather, you provide a statistical distribution for each hyperparameter from which values may be randomly sampled.\n",
        "\n",
        "Before going any further, let’s understand what distribution and sampling mean:\n",
        "\n",
        "In Statistics, by distribution, it is essentially meant an arrangement of values of a variable showing their observed or theoretical frequency of occurrence.\n",
        "\n",
        "On the other hand, Sampling is a term used in statistics. It is the process of choosing a representative sample from a target population and collecting data from that sample in order to understand something about the population as a whole.\n",
        "\n",
        "Now let's again get back to the concept of random search.\n",
        "\n",
        "You’ll define a sampling distribution for each hyperparameter. You can also define how many iterations you’d like to build when searching for the optimal model. For each iteration, the hyperparameter values of the model will be set by sampling the defined distributions. One of the primary theoretical backings to motivate the use of a random search in place of grid search is the fact that for most cases, hyperparameters are __not equally important__. According to the original paper:\n",
        "\n",
        "“*….for most datasets only a few of the hyper-parameters really matter, but that different hyper-parameters are important on different datasets. This phenomenon makes grid search a poor choice for configuring algorithms for new datasets.*”\n",
        "\n",
        "In the following figure, we're searching over a hyperparameter space where the one hyperparameter has significantly more influence on optimizing the model score - the distributions shown on each axis represent the model's score. In each case, we're evaluating `9` different models. The grid search strategy blatantly misses the optimal model and spends redundant time exploring the unimportant parameter. During this grid search, we isolated each hyperparameter and searched for the best possible value while holding all other hyperparameters constant. For cases where the hyperparameter being studied has little effect on the resulting model score, this results in wasted effort. Conversely, the random search has much improved exploratory power and can focus on finding the optimal value for the critical hyperparameter.\n",
        "\n",
        "<img src = 'http://res.cloudinary.com/dyd911kmh/image/upload/f_auto,q_auto:best/v1531340388/grid_vs_random_jltknd.png' />\n",
        "\n",
        "Source: [Random Search for Hyper-Parameter Optimization](http://www.jmlr.org/papers/volume13/bergstra12a/bergstra12a.pdf)\n",
        "\n",
        "In the following sections, you will see grid search and random search in action with Python. You will also be able to decide which is better regarding the effectiveness and efficiency."
      ]
    },
    {
      "cell_type": "markdown",
      "metadata": {
        "id": "Fb1I63N7eP7J"
      },
      "source": [
        "## Case study in Python:\n",
        "\n",
        "Hyperparameter tuning is a final step in the process of applied machine learning before presenting results.\n",
        "\n",
        "You will use the Pima Indian diabetes dataset. The dataset corresponds to a classification problem on which you need to make predictions on the basis of whether a person is to suffer diabetes given the `8` features in the dataset. You can find the complete description of the dataset [here](https://www.kaggle.com/uciml/pima-indians-diabetes-database).\n",
        "\n",
        "There are a total of `768` observations in the dataset. Your first task is to load the dataset so that you can proceed. But before that let's import the dependencies you are going to need."
      ]
    },
    {
      "cell_type": "code",
      "metadata": {
        "id": "71sIIgkFeP7J"
      },
      "source": [
        "# Dependencies\n",
        "\n",
        "import pandas as pd\n",
        "import numpy as np\n",
        "from sklearn.linear_model import LogisticRegression\n",
        "\n",
        "import warnings\n",
        "warnings.filterwarnings('ignore')"
      ],
      "execution_count": null,
      "outputs": []
    },
    {
      "cell_type": "markdown",
      "metadata": {
        "id": "lM2rT5wyeP7M"
      },
      "source": [
        "Now that the dependencies are imported let's load Pima Indians dataset into a Dataframe object with the famous `Pandas` library."
      ]
    },
    {
      "cell_type": "code",
      "metadata": {
        "id": "XXQdRGjvo3oe"
      },
      "source": [
        "data = pd.read_csv(\"https://raw.githubusercontent.com/jbrownlee/Datasets/master/pima-indians-diabetes.data.csv\", header=None)"
      ],
      "execution_count": null,
      "outputs": []
    },
    {
      "cell_type": "markdown",
      "metadata": {
        "id": "GKvMzr3LeP7O"
      },
      "source": [
        "The dataset is successfully loaded into the Dataframe object data. Now, let's take a look at the data."
      ]
    },
    {
      "cell_type": "code",
      "metadata": {
        "id": "_EeyWWPteP7P",
        "outputId": "212e7429-48d5-45ee-a0ce-f9e4feccb575",
        "colab": {
          "base_uri": "https://localhost:8080/",
          "height": 206
        }
      },
      "source": [
        "data.head()"
      ],
      "execution_count": null,
      "outputs": [
        {
          "output_type": "execute_result",
          "data": {
            "text/plain": [
              "   0    1   2   3    4     5      6   7  8\n",
              "0  6  148  72  35    0  33.6  0.627  50  1\n",
              "1  1   85  66  29    0  26.6  0.351  31  0\n",
              "2  8  183  64   0    0  23.3  0.672  32  1\n",
              "3  1   89  66  23   94  28.1  0.167  21  0\n",
              "4  0  137  40  35  168  43.1  2.288  33  1"
            ],
            "text/html": [
              "\n",
              "  <div id=\"df-ebbc0c89-1bd5-40a1-82f9-a53e262208f1\">\n",
              "    <div class=\"colab-df-container\">\n",
              "      <div>\n",
              "<style scoped>\n",
              "    .dataframe tbody tr th:only-of-type {\n",
              "        vertical-align: middle;\n",
              "    }\n",
              "\n",
              "    .dataframe tbody tr th {\n",
              "        vertical-align: top;\n",
              "    }\n",
              "\n",
              "    .dataframe thead th {\n",
              "        text-align: right;\n",
              "    }\n",
              "</style>\n",
              "<table border=\"1\" class=\"dataframe\">\n",
              "  <thead>\n",
              "    <tr style=\"text-align: right;\">\n",
              "      <th></th>\n",
              "      <th>0</th>\n",
              "      <th>1</th>\n",
              "      <th>2</th>\n",
              "      <th>3</th>\n",
              "      <th>4</th>\n",
              "      <th>5</th>\n",
              "      <th>6</th>\n",
              "      <th>7</th>\n",
              "      <th>8</th>\n",
              "    </tr>\n",
              "  </thead>\n",
              "  <tbody>\n",
              "    <tr>\n",
              "      <th>0</th>\n",
              "      <td>6</td>\n",
              "      <td>148</td>\n",
              "      <td>72</td>\n",
              "      <td>35</td>\n",
              "      <td>0</td>\n",
              "      <td>33.6</td>\n",
              "      <td>0.627</td>\n",
              "      <td>50</td>\n",
              "      <td>1</td>\n",
              "    </tr>\n",
              "    <tr>\n",
              "      <th>1</th>\n",
              "      <td>1</td>\n",
              "      <td>85</td>\n",
              "      <td>66</td>\n",
              "      <td>29</td>\n",
              "      <td>0</td>\n",
              "      <td>26.6</td>\n",
              "      <td>0.351</td>\n",
              "      <td>31</td>\n",
              "      <td>0</td>\n",
              "    </tr>\n",
              "    <tr>\n",
              "      <th>2</th>\n",
              "      <td>8</td>\n",
              "      <td>183</td>\n",
              "      <td>64</td>\n",
              "      <td>0</td>\n",
              "      <td>0</td>\n",
              "      <td>23.3</td>\n",
              "      <td>0.672</td>\n",
              "      <td>32</td>\n",
              "      <td>1</td>\n",
              "    </tr>\n",
              "    <tr>\n",
              "      <th>3</th>\n",
              "      <td>1</td>\n",
              "      <td>89</td>\n",
              "      <td>66</td>\n",
              "      <td>23</td>\n",
              "      <td>94</td>\n",
              "      <td>28.1</td>\n",
              "      <td>0.167</td>\n",
              "      <td>21</td>\n",
              "      <td>0</td>\n",
              "    </tr>\n",
              "    <tr>\n",
              "      <th>4</th>\n",
              "      <td>0</td>\n",
              "      <td>137</td>\n",
              "      <td>40</td>\n",
              "      <td>35</td>\n",
              "      <td>168</td>\n",
              "      <td>43.1</td>\n",
              "      <td>2.288</td>\n",
              "      <td>33</td>\n",
              "      <td>1</td>\n",
              "    </tr>\n",
              "  </tbody>\n",
              "</table>\n",
              "</div>\n",
              "      <button class=\"colab-df-convert\" onclick=\"convertToInteractive('df-ebbc0c89-1bd5-40a1-82f9-a53e262208f1')\"\n",
              "              title=\"Convert this dataframe to an interactive table.\"\n",
              "              style=\"display:none;\">\n",
              "        \n",
              "  <svg xmlns=\"http://www.w3.org/2000/svg\" height=\"24px\"viewBox=\"0 0 24 24\"\n",
              "       width=\"24px\">\n",
              "    <path d=\"M0 0h24v24H0V0z\" fill=\"none\"/>\n",
              "    <path d=\"M18.56 5.44l.94 2.06.94-2.06 2.06-.94-2.06-.94-.94-2.06-.94 2.06-2.06.94zm-11 1L8.5 8.5l.94-2.06 2.06-.94-2.06-.94L8.5 2.5l-.94 2.06-2.06.94zm10 10l.94 2.06.94-2.06 2.06-.94-2.06-.94-.94-2.06-.94 2.06-2.06.94z\"/><path d=\"M17.41 7.96l-1.37-1.37c-.4-.4-.92-.59-1.43-.59-.52 0-1.04.2-1.43.59L10.3 9.45l-7.72 7.72c-.78.78-.78 2.05 0 2.83L4 21.41c.39.39.9.59 1.41.59.51 0 1.02-.2 1.41-.59l7.78-7.78 2.81-2.81c.8-.78.8-2.07 0-2.86zM5.41 20L4 18.59l7.72-7.72 1.47 1.35L5.41 20z\"/>\n",
              "  </svg>\n",
              "      </button>\n",
              "      \n",
              "  <style>\n",
              "    .colab-df-container {\n",
              "      display:flex;\n",
              "      flex-wrap:wrap;\n",
              "      gap: 12px;\n",
              "    }\n",
              "\n",
              "    .colab-df-convert {\n",
              "      background-color: #E8F0FE;\n",
              "      border: none;\n",
              "      border-radius: 50%;\n",
              "      cursor: pointer;\n",
              "      display: none;\n",
              "      fill: #1967D2;\n",
              "      height: 32px;\n",
              "      padding: 0 0 0 0;\n",
              "      width: 32px;\n",
              "    }\n",
              "\n",
              "    .colab-df-convert:hover {\n",
              "      background-color: #E2EBFA;\n",
              "      box-shadow: 0px 1px 2px rgba(60, 64, 67, 0.3), 0px 1px 3px 1px rgba(60, 64, 67, 0.15);\n",
              "      fill: #174EA6;\n",
              "    }\n",
              "\n",
              "    [theme=dark] .colab-df-convert {\n",
              "      background-color: #3B4455;\n",
              "      fill: #D2E3FC;\n",
              "    }\n",
              "\n",
              "    [theme=dark] .colab-df-convert:hover {\n",
              "      background-color: #434B5C;\n",
              "      box-shadow: 0px 1px 3px 1px rgba(0, 0, 0, 0.15);\n",
              "      filter: drop-shadow(0px 1px 2px rgba(0, 0, 0, 0.3));\n",
              "      fill: #FFFFFF;\n",
              "    }\n",
              "  </style>\n",
              "\n",
              "      <script>\n",
              "        const buttonEl =\n",
              "          document.querySelector('#df-ebbc0c89-1bd5-40a1-82f9-a53e262208f1 button.colab-df-convert');\n",
              "        buttonEl.style.display =\n",
              "          google.colab.kernel.accessAllowed ? 'block' : 'none';\n",
              "\n",
              "        async function convertToInteractive(key) {\n",
              "          const element = document.querySelector('#df-ebbc0c89-1bd5-40a1-82f9-a53e262208f1');\n",
              "          const dataTable =\n",
              "            await google.colab.kernel.invokeFunction('convertToInteractive',\n",
              "                                                     [key], {});\n",
              "          if (!dataTable) return;\n",
              "\n",
              "          const docLinkHtml = 'Like what you see? Visit the ' +\n",
              "            '<a target=\"_blank\" href=https://colab.research.google.com/notebooks/data_table.ipynb>data table notebook</a>'\n",
              "            + ' to learn more about interactive tables.';\n",
              "          element.innerHTML = '';\n",
              "          dataTable['output_type'] = 'display_data';\n",
              "          await google.colab.output.renderOutput(dataTable, element);\n",
              "          const docLink = document.createElement('div');\n",
              "          docLink.innerHTML = docLinkHtml;\n",
              "          element.appendChild(docLink);\n",
              "        }\n",
              "      </script>\n",
              "    </div>\n",
              "  </div>\n",
              "  "
            ]
          },
          "metadata": {},
          "execution_count": 3
        }
      ]
    },
    {
      "cell_type": "markdown",
      "metadata": {
        "id": "nQhUt_JseP7S"
      },
      "source": [
        "So you can `8` different features labeled into the outcomes of `1` and `0` where `1` stands for the observation has diabetes, and `0` denotes the observation does not have diabetes. The dataset is known to have missing values. Specifically, there are missing observations for some columns that are marked as a zero value. We can corroborate this by the definition of those columns, and the domain knowledge that a zero value is invalid for those measures, e.g., `0` for body mass index or blood pressure is invalid.\n",
        "\n",
        "(Missing value creates a lot of problems when you try to build a machine learning model. In this case, you will use a Logistic Regression classifier for predicting the patients having diabetes or not. Now, Logistic Regression cannot handle the problems of missing values. )\n",
        "\n",
        "(If you want a quick refresher on Logistic Regression you can refer [here](https://www.analyticsvidhya.com/blog/2015/10/basics-logistic-regression/).)\n",
        "\n",
        "Let's get some statistics about the data with Pandas' `describe()` utility."
      ]
    },
    {
      "cell_type": "code",
      "metadata": {
        "id": "7ybiFo-JeP7S",
        "colab": {
          "base_uri": "https://localhost:8080/",
          "height": 300
        },
        "outputId": "932dc40c-88a7-48aa-e87a-eb46512468b2"
      },
      "source": [
        "data.describe()"
      ],
      "execution_count": null,
      "outputs": [
        {
          "output_type": "execute_result",
          "data": {
            "text/plain": [
              "                0           1           2           3           4           5  \\\n",
              "count  768.000000  768.000000  768.000000  768.000000  768.000000  768.000000   \n",
              "mean     3.845052  120.894531   69.105469   20.536458   79.799479   31.992578   \n",
              "std      3.369578   31.972618   19.355807   15.952218  115.244002    7.884160   \n",
              "min      0.000000    0.000000    0.000000    0.000000    0.000000    0.000000   \n",
              "25%      1.000000   99.000000   62.000000    0.000000    0.000000   27.300000   \n",
              "50%      3.000000  117.000000   72.000000   23.000000   30.500000   32.000000   \n",
              "75%      6.000000  140.250000   80.000000   32.000000  127.250000   36.600000   \n",
              "max     17.000000  199.000000  122.000000   99.000000  846.000000   67.100000   \n",
              "\n",
              "                6           7           8  \n",
              "count  768.000000  768.000000  768.000000  \n",
              "mean     0.471876   33.240885    0.348958  \n",
              "std      0.331329   11.760232    0.476951  \n",
              "min      0.078000   21.000000    0.000000  \n",
              "25%      0.243750   24.000000    0.000000  \n",
              "50%      0.372500   29.000000    0.000000  \n",
              "75%      0.626250   41.000000    1.000000  \n",
              "max      2.420000   81.000000    1.000000  "
            ],
            "text/html": [
              "\n",
              "  <div id=\"df-481ed0ec-e9d3-40ea-bc36-f5cb88e97e82\">\n",
              "    <div class=\"colab-df-container\">\n",
              "      <div>\n",
              "<style scoped>\n",
              "    .dataframe tbody tr th:only-of-type {\n",
              "        vertical-align: middle;\n",
              "    }\n",
              "\n",
              "    .dataframe tbody tr th {\n",
              "        vertical-align: top;\n",
              "    }\n",
              "\n",
              "    .dataframe thead th {\n",
              "        text-align: right;\n",
              "    }\n",
              "</style>\n",
              "<table border=\"1\" class=\"dataframe\">\n",
              "  <thead>\n",
              "    <tr style=\"text-align: right;\">\n",
              "      <th></th>\n",
              "      <th>0</th>\n",
              "      <th>1</th>\n",
              "      <th>2</th>\n",
              "      <th>3</th>\n",
              "      <th>4</th>\n",
              "      <th>5</th>\n",
              "      <th>6</th>\n",
              "      <th>7</th>\n",
              "      <th>8</th>\n",
              "    </tr>\n",
              "  </thead>\n",
              "  <tbody>\n",
              "    <tr>\n",
              "      <th>count</th>\n",
              "      <td>768.000000</td>\n",
              "      <td>768.000000</td>\n",
              "      <td>768.000000</td>\n",
              "      <td>768.000000</td>\n",
              "      <td>768.000000</td>\n",
              "      <td>768.000000</td>\n",
              "      <td>768.000000</td>\n",
              "      <td>768.000000</td>\n",
              "      <td>768.000000</td>\n",
              "    </tr>\n",
              "    <tr>\n",
              "      <th>mean</th>\n",
              "      <td>3.845052</td>\n",
              "      <td>120.894531</td>\n",
              "      <td>69.105469</td>\n",
              "      <td>20.536458</td>\n",
              "      <td>79.799479</td>\n",
              "      <td>31.992578</td>\n",
              "      <td>0.471876</td>\n",
              "      <td>33.240885</td>\n",
              "      <td>0.348958</td>\n",
              "    </tr>\n",
              "    <tr>\n",
              "      <th>std</th>\n",
              "      <td>3.369578</td>\n",
              "      <td>31.972618</td>\n",
              "      <td>19.355807</td>\n",
              "      <td>15.952218</td>\n",
              "      <td>115.244002</td>\n",
              "      <td>7.884160</td>\n",
              "      <td>0.331329</td>\n",
              "      <td>11.760232</td>\n",
              "      <td>0.476951</td>\n",
              "    </tr>\n",
              "    <tr>\n",
              "      <th>min</th>\n",
              "      <td>0.000000</td>\n",
              "      <td>0.000000</td>\n",
              "      <td>0.000000</td>\n",
              "      <td>0.000000</td>\n",
              "      <td>0.000000</td>\n",
              "      <td>0.000000</td>\n",
              "      <td>0.078000</td>\n",
              "      <td>21.000000</td>\n",
              "      <td>0.000000</td>\n",
              "    </tr>\n",
              "    <tr>\n",
              "      <th>25%</th>\n",
              "      <td>1.000000</td>\n",
              "      <td>99.000000</td>\n",
              "      <td>62.000000</td>\n",
              "      <td>0.000000</td>\n",
              "      <td>0.000000</td>\n",
              "      <td>27.300000</td>\n",
              "      <td>0.243750</td>\n",
              "      <td>24.000000</td>\n",
              "      <td>0.000000</td>\n",
              "    </tr>\n",
              "    <tr>\n",
              "      <th>50%</th>\n",
              "      <td>3.000000</td>\n",
              "      <td>117.000000</td>\n",
              "      <td>72.000000</td>\n",
              "      <td>23.000000</td>\n",
              "      <td>30.500000</td>\n",
              "      <td>32.000000</td>\n",
              "      <td>0.372500</td>\n",
              "      <td>29.000000</td>\n",
              "      <td>0.000000</td>\n",
              "    </tr>\n",
              "    <tr>\n",
              "      <th>75%</th>\n",
              "      <td>6.000000</td>\n",
              "      <td>140.250000</td>\n",
              "      <td>80.000000</td>\n",
              "      <td>32.000000</td>\n",
              "      <td>127.250000</td>\n",
              "      <td>36.600000</td>\n",
              "      <td>0.626250</td>\n",
              "      <td>41.000000</td>\n",
              "      <td>1.000000</td>\n",
              "    </tr>\n",
              "    <tr>\n",
              "      <th>max</th>\n",
              "      <td>17.000000</td>\n",
              "      <td>199.000000</td>\n",
              "      <td>122.000000</td>\n",
              "      <td>99.000000</td>\n",
              "      <td>846.000000</td>\n",
              "      <td>67.100000</td>\n",
              "      <td>2.420000</td>\n",
              "      <td>81.000000</td>\n",
              "      <td>1.000000</td>\n",
              "    </tr>\n",
              "  </tbody>\n",
              "</table>\n",
              "</div>\n",
              "      <button class=\"colab-df-convert\" onclick=\"convertToInteractive('df-481ed0ec-e9d3-40ea-bc36-f5cb88e97e82')\"\n",
              "              title=\"Convert this dataframe to an interactive table.\"\n",
              "              style=\"display:none;\">\n",
              "        \n",
              "  <svg xmlns=\"http://www.w3.org/2000/svg\" height=\"24px\"viewBox=\"0 0 24 24\"\n",
              "       width=\"24px\">\n",
              "    <path d=\"M0 0h24v24H0V0z\" fill=\"none\"/>\n",
              "    <path d=\"M18.56 5.44l.94 2.06.94-2.06 2.06-.94-2.06-.94-.94-2.06-.94 2.06-2.06.94zm-11 1L8.5 8.5l.94-2.06 2.06-.94-2.06-.94L8.5 2.5l-.94 2.06-2.06.94zm10 10l.94 2.06.94-2.06 2.06-.94-2.06-.94-.94-2.06-.94 2.06-2.06.94z\"/><path d=\"M17.41 7.96l-1.37-1.37c-.4-.4-.92-.59-1.43-.59-.52 0-1.04.2-1.43.59L10.3 9.45l-7.72 7.72c-.78.78-.78 2.05 0 2.83L4 21.41c.39.39.9.59 1.41.59.51 0 1.02-.2 1.41-.59l7.78-7.78 2.81-2.81c.8-.78.8-2.07 0-2.86zM5.41 20L4 18.59l7.72-7.72 1.47 1.35L5.41 20z\"/>\n",
              "  </svg>\n",
              "      </button>\n",
              "      \n",
              "  <style>\n",
              "    .colab-df-container {\n",
              "      display:flex;\n",
              "      flex-wrap:wrap;\n",
              "      gap: 12px;\n",
              "    }\n",
              "\n",
              "    .colab-df-convert {\n",
              "      background-color: #E8F0FE;\n",
              "      border: none;\n",
              "      border-radius: 50%;\n",
              "      cursor: pointer;\n",
              "      display: none;\n",
              "      fill: #1967D2;\n",
              "      height: 32px;\n",
              "      padding: 0 0 0 0;\n",
              "      width: 32px;\n",
              "    }\n",
              "\n",
              "    .colab-df-convert:hover {\n",
              "      background-color: #E2EBFA;\n",
              "      box-shadow: 0px 1px 2px rgba(60, 64, 67, 0.3), 0px 1px 3px 1px rgba(60, 64, 67, 0.15);\n",
              "      fill: #174EA6;\n",
              "    }\n",
              "\n",
              "    [theme=dark] .colab-df-convert {\n",
              "      background-color: #3B4455;\n",
              "      fill: #D2E3FC;\n",
              "    }\n",
              "\n",
              "    [theme=dark] .colab-df-convert:hover {\n",
              "      background-color: #434B5C;\n",
              "      box-shadow: 0px 1px 3px 1px rgba(0, 0, 0, 0.15);\n",
              "      filter: drop-shadow(0px 1px 2px rgba(0, 0, 0, 0.3));\n",
              "      fill: #FFFFFF;\n",
              "    }\n",
              "  </style>\n",
              "\n",
              "      <script>\n",
              "        const buttonEl =\n",
              "          document.querySelector('#df-481ed0ec-e9d3-40ea-bc36-f5cb88e97e82 button.colab-df-convert');\n",
              "        buttonEl.style.display =\n",
              "          google.colab.kernel.accessAllowed ? 'block' : 'none';\n",
              "\n",
              "        async function convertToInteractive(key) {\n",
              "          const element = document.querySelector('#df-481ed0ec-e9d3-40ea-bc36-f5cb88e97e82');\n",
              "          const dataTable =\n",
              "            await google.colab.kernel.invokeFunction('convertToInteractive',\n",
              "                                                     [key], {});\n",
              "          if (!dataTable) return;\n",
              "\n",
              "          const docLinkHtml = 'Like what you see? Visit the ' +\n",
              "            '<a target=\"_blank\" href=https://colab.research.google.com/notebooks/data_table.ipynb>data table notebook</a>'\n",
              "            + ' to learn more about interactive tables.';\n",
              "          element.innerHTML = '';\n",
              "          dataTable['output_type'] = 'display_data';\n",
              "          await google.colab.output.renderOutput(dataTable, element);\n",
              "          const docLink = document.createElement('div');\n",
              "          docLink.innerHTML = docLinkHtml;\n",
              "          element.appendChild(docLink);\n",
              "        }\n",
              "      </script>\n",
              "    </div>\n",
              "  </div>\n",
              "  "
            ]
          },
          "metadata": {},
          "execution_count": 4
        }
      ]
    },
    {
      "cell_type": "markdown",
      "metadata": {
        "id": "gwz5rSBueP7U"
      },
      "source": [
        "This is useful.\n",
        "\n",
        "We can see that there are columns that have a minimum value of `0`. On some columns, a value of `0` does not make sense and indicates an invalid or missing value.\n",
        "\n",
        "Specifically, the following columns have an invalid zero minimum value:\n",
        "\n",
        "- Plasma glucose concentration (`Glucose`)\n",
        "- Diastolic blood pressure (`BloodPressure`)\n",
        "- Triceps skinfold thickness (`SkinThickness`)\n",
        "- 2-Hour serum insulin (`Insulin`)\n",
        "- Body mass index (`BMI`)\n",
        "\n",
        "Now you need to identify and mark values as missing. Let’s confirm this by looking at the raw data, the example prints the first `20` rows of data."
      ]
    },
    {
      "cell_type": "code",
      "metadata": {
        "id": "eAQCahiFeP7U",
        "colab": {
          "base_uri": "https://localhost:8080/",
          "height": 677
        },
        "outputId": "f2c18272-5ffa-4be5-dd55-4aba524699ba"
      },
      "source": [
        "data.head(20)"
      ],
      "execution_count": null,
      "outputs": [
        {
          "output_type": "execute_result",
          "data": {
            "text/plain": [
              "     0    1   2   3    4     5      6   7  8\n",
              "0    6  148  72  35    0  33.6  0.627  50  1\n",
              "1    1   85  66  29    0  26.6  0.351  31  0\n",
              "2    8  183  64   0    0  23.3  0.672  32  1\n",
              "3    1   89  66  23   94  28.1  0.167  21  0\n",
              "4    0  137  40  35  168  43.1  2.288  33  1\n",
              "5    5  116  74   0    0  25.6  0.201  30  0\n",
              "6    3   78  50  32   88  31.0  0.248  26  1\n",
              "7   10  115   0   0    0  35.3  0.134  29  0\n",
              "8    2  197  70  45  543  30.5  0.158  53  1\n",
              "9    8  125  96   0    0   0.0  0.232  54  1\n",
              "10   4  110  92   0    0  37.6  0.191  30  0\n",
              "11  10  168  74   0    0  38.0  0.537  34  1\n",
              "12  10  139  80   0    0  27.1  1.441  57  0\n",
              "13   1  189  60  23  846  30.1  0.398  59  1\n",
              "14   5  166  72  19  175  25.8  0.587  51  1\n",
              "15   7  100   0   0    0  30.0  0.484  32  1\n",
              "16   0  118  84  47  230  45.8  0.551  31  1\n",
              "17   7  107  74   0    0  29.6  0.254  31  1\n",
              "18   1  103  30  38   83  43.3  0.183  33  0\n",
              "19   1  115  70  30   96  34.6  0.529  32  1"
            ],
            "text/html": [
              "\n",
              "  <div id=\"df-661b35ea-666a-4fcb-b2a4-41cdfa2cbacf\">\n",
              "    <div class=\"colab-df-container\">\n",
              "      <div>\n",
              "<style scoped>\n",
              "    .dataframe tbody tr th:only-of-type {\n",
              "        vertical-align: middle;\n",
              "    }\n",
              "\n",
              "    .dataframe tbody tr th {\n",
              "        vertical-align: top;\n",
              "    }\n",
              "\n",
              "    .dataframe thead th {\n",
              "        text-align: right;\n",
              "    }\n",
              "</style>\n",
              "<table border=\"1\" class=\"dataframe\">\n",
              "  <thead>\n",
              "    <tr style=\"text-align: right;\">\n",
              "      <th></th>\n",
              "      <th>0</th>\n",
              "      <th>1</th>\n",
              "      <th>2</th>\n",
              "      <th>3</th>\n",
              "      <th>4</th>\n",
              "      <th>5</th>\n",
              "      <th>6</th>\n",
              "      <th>7</th>\n",
              "      <th>8</th>\n",
              "    </tr>\n",
              "  </thead>\n",
              "  <tbody>\n",
              "    <tr>\n",
              "      <th>0</th>\n",
              "      <td>6</td>\n",
              "      <td>148</td>\n",
              "      <td>72</td>\n",
              "      <td>35</td>\n",
              "      <td>0</td>\n",
              "      <td>33.6</td>\n",
              "      <td>0.627</td>\n",
              "      <td>50</td>\n",
              "      <td>1</td>\n",
              "    </tr>\n",
              "    <tr>\n",
              "      <th>1</th>\n",
              "      <td>1</td>\n",
              "      <td>85</td>\n",
              "      <td>66</td>\n",
              "      <td>29</td>\n",
              "      <td>0</td>\n",
              "      <td>26.6</td>\n",
              "      <td>0.351</td>\n",
              "      <td>31</td>\n",
              "      <td>0</td>\n",
              "    </tr>\n",
              "    <tr>\n",
              "      <th>2</th>\n",
              "      <td>8</td>\n",
              "      <td>183</td>\n",
              "      <td>64</td>\n",
              "      <td>0</td>\n",
              "      <td>0</td>\n",
              "      <td>23.3</td>\n",
              "      <td>0.672</td>\n",
              "      <td>32</td>\n",
              "      <td>1</td>\n",
              "    </tr>\n",
              "    <tr>\n",
              "      <th>3</th>\n",
              "      <td>1</td>\n",
              "      <td>89</td>\n",
              "      <td>66</td>\n",
              "      <td>23</td>\n",
              "      <td>94</td>\n",
              "      <td>28.1</td>\n",
              "      <td>0.167</td>\n",
              "      <td>21</td>\n",
              "      <td>0</td>\n",
              "    </tr>\n",
              "    <tr>\n",
              "      <th>4</th>\n",
              "      <td>0</td>\n",
              "      <td>137</td>\n",
              "      <td>40</td>\n",
              "      <td>35</td>\n",
              "      <td>168</td>\n",
              "      <td>43.1</td>\n",
              "      <td>2.288</td>\n",
              "      <td>33</td>\n",
              "      <td>1</td>\n",
              "    </tr>\n",
              "    <tr>\n",
              "      <th>5</th>\n",
              "      <td>5</td>\n",
              "      <td>116</td>\n",
              "      <td>74</td>\n",
              "      <td>0</td>\n",
              "      <td>0</td>\n",
              "      <td>25.6</td>\n",
              "      <td>0.201</td>\n",
              "      <td>30</td>\n",
              "      <td>0</td>\n",
              "    </tr>\n",
              "    <tr>\n",
              "      <th>6</th>\n",
              "      <td>3</td>\n",
              "      <td>78</td>\n",
              "      <td>50</td>\n",
              "      <td>32</td>\n",
              "      <td>88</td>\n",
              "      <td>31.0</td>\n",
              "      <td>0.248</td>\n",
              "      <td>26</td>\n",
              "      <td>1</td>\n",
              "    </tr>\n",
              "    <tr>\n",
              "      <th>7</th>\n",
              "      <td>10</td>\n",
              "      <td>115</td>\n",
              "      <td>0</td>\n",
              "      <td>0</td>\n",
              "      <td>0</td>\n",
              "      <td>35.3</td>\n",
              "      <td>0.134</td>\n",
              "      <td>29</td>\n",
              "      <td>0</td>\n",
              "    </tr>\n",
              "    <tr>\n",
              "      <th>8</th>\n",
              "      <td>2</td>\n",
              "      <td>197</td>\n",
              "      <td>70</td>\n",
              "      <td>45</td>\n",
              "      <td>543</td>\n",
              "      <td>30.5</td>\n",
              "      <td>0.158</td>\n",
              "      <td>53</td>\n",
              "      <td>1</td>\n",
              "    </tr>\n",
              "    <tr>\n",
              "      <th>9</th>\n",
              "      <td>8</td>\n",
              "      <td>125</td>\n",
              "      <td>96</td>\n",
              "      <td>0</td>\n",
              "      <td>0</td>\n",
              "      <td>0.0</td>\n",
              "      <td>0.232</td>\n",
              "      <td>54</td>\n",
              "      <td>1</td>\n",
              "    </tr>\n",
              "    <tr>\n",
              "      <th>10</th>\n",
              "      <td>4</td>\n",
              "      <td>110</td>\n",
              "      <td>92</td>\n",
              "      <td>0</td>\n",
              "      <td>0</td>\n",
              "      <td>37.6</td>\n",
              "      <td>0.191</td>\n",
              "      <td>30</td>\n",
              "      <td>0</td>\n",
              "    </tr>\n",
              "    <tr>\n",
              "      <th>11</th>\n",
              "      <td>10</td>\n",
              "      <td>168</td>\n",
              "      <td>74</td>\n",
              "      <td>0</td>\n",
              "      <td>0</td>\n",
              "      <td>38.0</td>\n",
              "      <td>0.537</td>\n",
              "      <td>34</td>\n",
              "      <td>1</td>\n",
              "    </tr>\n",
              "    <tr>\n",
              "      <th>12</th>\n",
              "      <td>10</td>\n",
              "      <td>139</td>\n",
              "      <td>80</td>\n",
              "      <td>0</td>\n",
              "      <td>0</td>\n",
              "      <td>27.1</td>\n",
              "      <td>1.441</td>\n",
              "      <td>57</td>\n",
              "      <td>0</td>\n",
              "    </tr>\n",
              "    <tr>\n",
              "      <th>13</th>\n",
              "      <td>1</td>\n",
              "      <td>189</td>\n",
              "      <td>60</td>\n",
              "      <td>23</td>\n",
              "      <td>846</td>\n",
              "      <td>30.1</td>\n",
              "      <td>0.398</td>\n",
              "      <td>59</td>\n",
              "      <td>1</td>\n",
              "    </tr>\n",
              "    <tr>\n",
              "      <th>14</th>\n",
              "      <td>5</td>\n",
              "      <td>166</td>\n",
              "      <td>72</td>\n",
              "      <td>19</td>\n",
              "      <td>175</td>\n",
              "      <td>25.8</td>\n",
              "      <td>0.587</td>\n",
              "      <td>51</td>\n",
              "      <td>1</td>\n",
              "    </tr>\n",
              "    <tr>\n",
              "      <th>15</th>\n",
              "      <td>7</td>\n",
              "      <td>100</td>\n",
              "      <td>0</td>\n",
              "      <td>0</td>\n",
              "      <td>0</td>\n",
              "      <td>30.0</td>\n",
              "      <td>0.484</td>\n",
              "      <td>32</td>\n",
              "      <td>1</td>\n",
              "    </tr>\n",
              "    <tr>\n",
              "      <th>16</th>\n",
              "      <td>0</td>\n",
              "      <td>118</td>\n",
              "      <td>84</td>\n",
              "      <td>47</td>\n",
              "      <td>230</td>\n",
              "      <td>45.8</td>\n",
              "      <td>0.551</td>\n",
              "      <td>31</td>\n",
              "      <td>1</td>\n",
              "    </tr>\n",
              "    <tr>\n",
              "      <th>17</th>\n",
              "      <td>7</td>\n",
              "      <td>107</td>\n",
              "      <td>74</td>\n",
              "      <td>0</td>\n",
              "      <td>0</td>\n",
              "      <td>29.6</td>\n",
              "      <td>0.254</td>\n",
              "      <td>31</td>\n",
              "      <td>1</td>\n",
              "    </tr>\n",
              "    <tr>\n",
              "      <th>18</th>\n",
              "      <td>1</td>\n",
              "      <td>103</td>\n",
              "      <td>30</td>\n",
              "      <td>38</td>\n",
              "      <td>83</td>\n",
              "      <td>43.3</td>\n",
              "      <td>0.183</td>\n",
              "      <td>33</td>\n",
              "      <td>0</td>\n",
              "    </tr>\n",
              "    <tr>\n",
              "      <th>19</th>\n",
              "      <td>1</td>\n",
              "      <td>115</td>\n",
              "      <td>70</td>\n",
              "      <td>30</td>\n",
              "      <td>96</td>\n",
              "      <td>34.6</td>\n",
              "      <td>0.529</td>\n",
              "      <td>32</td>\n",
              "      <td>1</td>\n",
              "    </tr>\n",
              "  </tbody>\n",
              "</table>\n",
              "</div>\n",
              "      <button class=\"colab-df-convert\" onclick=\"convertToInteractive('df-661b35ea-666a-4fcb-b2a4-41cdfa2cbacf')\"\n",
              "              title=\"Convert this dataframe to an interactive table.\"\n",
              "              style=\"display:none;\">\n",
              "        \n",
              "  <svg xmlns=\"http://www.w3.org/2000/svg\" height=\"24px\"viewBox=\"0 0 24 24\"\n",
              "       width=\"24px\">\n",
              "    <path d=\"M0 0h24v24H0V0z\" fill=\"none\"/>\n",
              "    <path d=\"M18.56 5.44l.94 2.06.94-2.06 2.06-.94-2.06-.94-.94-2.06-.94 2.06-2.06.94zm-11 1L8.5 8.5l.94-2.06 2.06-.94-2.06-.94L8.5 2.5l-.94 2.06-2.06.94zm10 10l.94 2.06.94-2.06 2.06-.94-2.06-.94-.94-2.06-.94 2.06-2.06.94z\"/><path d=\"M17.41 7.96l-1.37-1.37c-.4-.4-.92-.59-1.43-.59-.52 0-1.04.2-1.43.59L10.3 9.45l-7.72 7.72c-.78.78-.78 2.05 0 2.83L4 21.41c.39.39.9.59 1.41.59.51 0 1.02-.2 1.41-.59l7.78-7.78 2.81-2.81c.8-.78.8-2.07 0-2.86zM5.41 20L4 18.59l7.72-7.72 1.47 1.35L5.41 20z\"/>\n",
              "  </svg>\n",
              "      </button>\n",
              "      \n",
              "  <style>\n",
              "    .colab-df-container {\n",
              "      display:flex;\n",
              "      flex-wrap:wrap;\n",
              "      gap: 12px;\n",
              "    }\n",
              "\n",
              "    .colab-df-convert {\n",
              "      background-color: #E8F0FE;\n",
              "      border: none;\n",
              "      border-radius: 50%;\n",
              "      cursor: pointer;\n",
              "      display: none;\n",
              "      fill: #1967D2;\n",
              "      height: 32px;\n",
              "      padding: 0 0 0 0;\n",
              "      width: 32px;\n",
              "    }\n",
              "\n",
              "    .colab-df-convert:hover {\n",
              "      background-color: #E2EBFA;\n",
              "      box-shadow: 0px 1px 2px rgba(60, 64, 67, 0.3), 0px 1px 3px 1px rgba(60, 64, 67, 0.15);\n",
              "      fill: #174EA6;\n",
              "    }\n",
              "\n",
              "    [theme=dark] .colab-df-convert {\n",
              "      background-color: #3B4455;\n",
              "      fill: #D2E3FC;\n",
              "    }\n",
              "\n",
              "    [theme=dark] .colab-df-convert:hover {\n",
              "      background-color: #434B5C;\n",
              "      box-shadow: 0px 1px 3px 1px rgba(0, 0, 0, 0.15);\n",
              "      filter: drop-shadow(0px 1px 2px rgba(0, 0, 0, 0.3));\n",
              "      fill: #FFFFFF;\n",
              "    }\n",
              "  </style>\n",
              "\n",
              "      <script>\n",
              "        const buttonEl =\n",
              "          document.querySelector('#df-661b35ea-666a-4fcb-b2a4-41cdfa2cbacf button.colab-df-convert');\n",
              "        buttonEl.style.display =\n",
              "          google.colab.kernel.accessAllowed ? 'block' : 'none';\n",
              "\n",
              "        async function convertToInteractive(key) {\n",
              "          const element = document.querySelector('#df-661b35ea-666a-4fcb-b2a4-41cdfa2cbacf');\n",
              "          const dataTable =\n",
              "            await google.colab.kernel.invokeFunction('convertToInteractive',\n",
              "                                                     [key], {});\n",
              "          if (!dataTable) return;\n",
              "\n",
              "          const docLinkHtml = 'Like what you see? Visit the ' +\n",
              "            '<a target=\"_blank\" href=https://colab.research.google.com/notebooks/data_table.ipynb>data table notebook</a>'\n",
              "            + ' to learn more about interactive tables.';\n",
              "          element.innerHTML = '';\n",
              "          dataTable['output_type'] = 'display_data';\n",
              "          await google.colab.output.renderOutput(dataTable, element);\n",
              "          const docLink = document.createElement('div');\n",
              "          docLink.innerHTML = docLinkHtml;\n",
              "          element.appendChild(docLink);\n",
              "        }\n",
              "      </script>\n",
              "    </div>\n",
              "  </div>\n",
              "  "
            ]
          },
          "metadata": {},
          "execution_count": 5
        }
      ]
    },
    {
      "cell_type": "markdown",
      "metadata": {
        "id": "ej6dH1yYeP7X"
      },
      "source": [
        "You can see 0 in several columns, right?\n",
        "\n",
        "You can get a count of the number of missing values in each of these columns. You can do this by marking all of the values in the subset of the DataFrame you are interested in that have zero values as True. You can then count the number of true values in each column. For this, you will have to reimport the data without the column names."
      ]
    },
    {
      "cell_type": "code",
      "metadata": {
        "id": "x_pGhXmmeP7X",
        "outputId": "f01bf809-fb85-4ea4-9b8d-5e8716daef91",
        "colab": {
          "base_uri": "https://localhost:8080/"
        }
      },
      "source": [
        "print((data[[1,2,3,4,5]] == 0).sum())"
      ],
      "execution_count": null,
      "outputs": [
        {
          "output_type": "stream",
          "name": "stdout",
          "text": [
            "1      5\n",
            "2     35\n",
            "3    227\n",
            "4    374\n",
            "5     11\n",
            "dtype: int64\n"
          ]
        }
      ]
    },
    {
      "cell_type": "markdown",
      "metadata": {
        "id": "eW9o6AnpeP7Z"
      },
      "source": [
        "You can see that columns `1`,`2` and `5` have just a few `0` values, whereas columns `3` and `4` show a lot more, nearly half of the rows. Column `0` has several missing values although but that is natural. Column `8` denotes the target variable so, `0`s in it is natural.\n",
        "\n",
        "This highlights that different “missing value” strategies may be needed for different columns, e.g., to ensure that there are still a sufficient number of records left to train a predictive model.\n",
        "\n",
        "In Python, specifically `Pandas`, `NumPy` and `Scikit-Learn`, you should mark missing values as `NaN`.\n",
        "\n",
        "Values with a `NaN` value are ignored from operations like sum, count, etc.\n",
        "\n",
        "You can mark values as NaN easily with the Pandas DataFrame by using the replace() function on a subset of the columns you are interested in.\n",
        "\n",
        "After you have marked the missing values, you can use the `isnull()` function to mark all of the NaN values in the dataset as `True` and get a count of the missing values for each column."
      ]
    },
    {
      "cell_type": "code",
      "metadata": {
        "id": "nS6k_BX9eP7a",
        "colab": {
          "base_uri": "https://localhost:8080/"
        },
        "outputId": "3d8bf3db-c428-437c-bd1a-03404409fa6e"
      },
      "source": [
        "# Mark zero values as missing or NaN\n",
        "data[[1,2,3,4,5]] = data[[1,2,3,4,5]].replace(0, np.NaN)\n",
        "# Count the number of NaN values in each column\n",
        "print(data.isnull().sum())"
      ],
      "execution_count": null,
      "outputs": [
        {
          "output_type": "stream",
          "name": "stdout",
          "text": [
            "0      0\n",
            "1      5\n",
            "2     35\n",
            "3    227\n",
            "4    374\n",
            "5     11\n",
            "6      0\n",
            "7      0\n",
            "8      0\n",
            "dtype: int64\n"
          ]
        }
      ]
    },
    {
      "cell_type": "markdown",
      "metadata": {
        "id": "CVIeSp9qeP7b"
      },
      "source": [
        "You can see that the columns `1` to `5` have the same number of missing values as zero values identified above. This is a sign that you have marked the identified missing values correctly.\n",
        "\n",
        "This is a useful summary. But you'd like to look at the actual data though, to confirm that you have not fooled yourselves.\n",
        "\n",
        "Below is the same example, except you print the first `5` rows of data."
      ]
    },
    {
      "cell_type": "code",
      "metadata": {
        "id": "feXKteVVeP7c",
        "colab": {
          "base_uri": "https://localhost:8080/",
          "height": 206
        },
        "outputId": "b91f1b3d-9183-4d75-bbe2-88605bb3c209"
      },
      "source": [
        "data.head()"
      ],
      "execution_count": null,
      "outputs": [
        {
          "output_type": "execute_result",
          "data": {
            "text/plain": [
              "   0    1   2   3    4     5      6   7  8\n",
              "0  6  148  72  35    0  33.6  0.627  50  1\n",
              "1  1   85  66  29    0  26.6  0.351  31  0\n",
              "2  8  183  64   0    0  23.3  0.672  32  1\n",
              "3  1   89  66  23   94  28.1  0.167  21  0\n",
              "4  0  137  40  35  168  43.1  2.288  33  1"
            ],
            "text/html": [
              "\n",
              "  <div id=\"df-6de0fb15-6c05-431c-8476-13aca0201c65\">\n",
              "    <div class=\"colab-df-container\">\n",
              "      <div>\n",
              "<style scoped>\n",
              "    .dataframe tbody tr th:only-of-type {\n",
              "        vertical-align: middle;\n",
              "    }\n",
              "\n",
              "    .dataframe tbody tr th {\n",
              "        vertical-align: top;\n",
              "    }\n",
              "\n",
              "    .dataframe thead th {\n",
              "        text-align: right;\n",
              "    }\n",
              "</style>\n",
              "<table border=\"1\" class=\"dataframe\">\n",
              "  <thead>\n",
              "    <tr style=\"text-align: right;\">\n",
              "      <th></th>\n",
              "      <th>0</th>\n",
              "      <th>1</th>\n",
              "      <th>2</th>\n",
              "      <th>3</th>\n",
              "      <th>4</th>\n",
              "      <th>5</th>\n",
              "      <th>6</th>\n",
              "      <th>7</th>\n",
              "      <th>8</th>\n",
              "    </tr>\n",
              "  </thead>\n",
              "  <tbody>\n",
              "    <tr>\n",
              "      <th>0</th>\n",
              "      <td>6</td>\n",
              "      <td>148</td>\n",
              "      <td>72</td>\n",
              "      <td>35</td>\n",
              "      <td>0</td>\n",
              "      <td>33.6</td>\n",
              "      <td>0.627</td>\n",
              "      <td>50</td>\n",
              "      <td>1</td>\n",
              "    </tr>\n",
              "    <tr>\n",
              "      <th>1</th>\n",
              "      <td>1</td>\n",
              "      <td>85</td>\n",
              "      <td>66</td>\n",
              "      <td>29</td>\n",
              "      <td>0</td>\n",
              "      <td>26.6</td>\n",
              "      <td>0.351</td>\n",
              "      <td>31</td>\n",
              "      <td>0</td>\n",
              "    </tr>\n",
              "    <tr>\n",
              "      <th>2</th>\n",
              "      <td>8</td>\n",
              "      <td>183</td>\n",
              "      <td>64</td>\n",
              "      <td>0</td>\n",
              "      <td>0</td>\n",
              "      <td>23.3</td>\n",
              "      <td>0.672</td>\n",
              "      <td>32</td>\n",
              "      <td>1</td>\n",
              "    </tr>\n",
              "    <tr>\n",
              "      <th>3</th>\n",
              "      <td>1</td>\n",
              "      <td>89</td>\n",
              "      <td>66</td>\n",
              "      <td>23</td>\n",
              "      <td>94</td>\n",
              "      <td>28.1</td>\n",
              "      <td>0.167</td>\n",
              "      <td>21</td>\n",
              "      <td>0</td>\n",
              "    </tr>\n",
              "    <tr>\n",
              "      <th>4</th>\n",
              "      <td>0</td>\n",
              "      <td>137</td>\n",
              "      <td>40</td>\n",
              "      <td>35</td>\n",
              "      <td>168</td>\n",
              "      <td>43.1</td>\n",
              "      <td>2.288</td>\n",
              "      <td>33</td>\n",
              "      <td>1</td>\n",
              "    </tr>\n",
              "  </tbody>\n",
              "</table>\n",
              "</div>\n",
              "      <button class=\"colab-df-convert\" onclick=\"convertToInteractive('df-6de0fb15-6c05-431c-8476-13aca0201c65')\"\n",
              "              title=\"Convert this dataframe to an interactive table.\"\n",
              "              style=\"display:none;\">\n",
              "        \n",
              "  <svg xmlns=\"http://www.w3.org/2000/svg\" height=\"24px\"viewBox=\"0 0 24 24\"\n",
              "       width=\"24px\">\n",
              "    <path d=\"M0 0h24v24H0V0z\" fill=\"none\"/>\n",
              "    <path d=\"M18.56 5.44l.94 2.06.94-2.06 2.06-.94-2.06-.94-.94-2.06-.94 2.06-2.06.94zm-11 1L8.5 8.5l.94-2.06 2.06-.94-2.06-.94L8.5 2.5l-.94 2.06-2.06.94zm10 10l.94 2.06.94-2.06 2.06-.94-2.06-.94-.94-2.06-.94 2.06-2.06.94z\"/><path d=\"M17.41 7.96l-1.37-1.37c-.4-.4-.92-.59-1.43-.59-.52 0-1.04.2-1.43.59L10.3 9.45l-7.72 7.72c-.78.78-.78 2.05 0 2.83L4 21.41c.39.39.9.59 1.41.59.51 0 1.02-.2 1.41-.59l7.78-7.78 2.81-2.81c.8-.78.8-2.07 0-2.86zM5.41 20L4 18.59l7.72-7.72 1.47 1.35L5.41 20z\"/>\n",
              "  </svg>\n",
              "      </button>\n",
              "      \n",
              "  <style>\n",
              "    .colab-df-container {\n",
              "      display:flex;\n",
              "      flex-wrap:wrap;\n",
              "      gap: 12px;\n",
              "    }\n",
              "\n",
              "    .colab-df-convert {\n",
              "      background-color: #E8F0FE;\n",
              "      border: none;\n",
              "      border-radius: 50%;\n",
              "      cursor: pointer;\n",
              "      display: none;\n",
              "      fill: #1967D2;\n",
              "      height: 32px;\n",
              "      padding: 0 0 0 0;\n",
              "      width: 32px;\n",
              "    }\n",
              "\n",
              "    .colab-df-convert:hover {\n",
              "      background-color: #E2EBFA;\n",
              "      box-shadow: 0px 1px 2px rgba(60, 64, 67, 0.3), 0px 1px 3px 1px rgba(60, 64, 67, 0.15);\n",
              "      fill: #174EA6;\n",
              "    }\n",
              "\n",
              "    [theme=dark] .colab-df-convert {\n",
              "      background-color: #3B4455;\n",
              "      fill: #D2E3FC;\n",
              "    }\n",
              "\n",
              "    [theme=dark] .colab-df-convert:hover {\n",
              "      background-color: #434B5C;\n",
              "      box-shadow: 0px 1px 3px 1px rgba(0, 0, 0, 0.15);\n",
              "      filter: drop-shadow(0px 1px 2px rgba(0, 0, 0, 0.3));\n",
              "      fill: #FFFFFF;\n",
              "    }\n",
              "  </style>\n",
              "\n",
              "      <script>\n",
              "        const buttonEl =\n",
              "          document.querySelector('#df-6de0fb15-6c05-431c-8476-13aca0201c65 button.colab-df-convert');\n",
              "        buttonEl.style.display =\n",
              "          google.colab.kernel.accessAllowed ? 'block' : 'none';\n",
              "\n",
              "        async function convertToInteractive(key) {\n",
              "          const element = document.querySelector('#df-6de0fb15-6c05-431c-8476-13aca0201c65');\n",
              "          const dataTable =\n",
              "            await google.colab.kernel.invokeFunction('convertToInteractive',\n",
              "                                                     [key], {});\n",
              "          if (!dataTable) return;\n",
              "\n",
              "          const docLinkHtml = 'Like what you see? Visit the ' +\n",
              "            '<a target=\"_blank\" href=https://colab.research.google.com/notebooks/data_table.ipynb>data table notebook</a>'\n",
              "            + ' to learn more about interactive tables.';\n",
              "          element.innerHTML = '';\n",
              "          dataTable['output_type'] = 'display_data';\n",
              "          await google.colab.output.renderOutput(dataTable, element);\n",
              "          const docLink = document.createElement('div');\n",
              "          docLink.innerHTML = docLinkHtml;\n",
              "          element.appendChild(docLink);\n",
              "        }\n",
              "      </script>\n",
              "    </div>\n",
              "  </div>\n",
              "  "
            ]
          },
          "metadata": {},
          "execution_count": 7
        }
      ]
    },
    {
      "cell_type": "markdown",
      "metadata": {
        "id": "bEMV1GL7eP7e"
      },
      "source": [
        "It is clear from the raw data that marking the missing values had the intended effect. Now, you will **impute** the missing values. Imputing refers to using a model to replace missing values. Although there are several solutions for imputing missing values, you will use mean imputation which means replacing the missing values in a column with the mean of that particular column. Let's do this with `Pandas`' `fillna()` method."
      ]
    },
    {
      "cell_type": "code",
      "metadata": {
        "id": "UawNFUA0eP7e",
        "colab": {
          "base_uri": "https://localhost:8080/"
        },
        "outputId": "686073f5-b08a-4f15-b0fd-da7fbee0eeb9"
      },
      "source": [
        "# Fill missing values with mean column values\n",
        "data.fillna(data.median(), inplace=True)\n",
        "# Count the number of NaN values in each column\n",
        "print(data.isnull().sum())"
      ],
      "execution_count": null,
      "outputs": [
        {
          "output_type": "stream",
          "name": "stdout",
          "text": [
            "0    0\n",
            "1    0\n",
            "2    0\n",
            "3    0\n",
            "4    0\n",
            "5    0\n",
            "6    0\n",
            "7    0\n",
            "8    0\n",
            "dtype: int64\n"
          ]
        }
      ]
    },
    {
      "cell_type": "markdown",
      "metadata": {
        "id": "Dcwczy5NeP7h"
      },
      "source": [
        "Cheers! You have now handled the missing value problem. Now let's use this data to build a Logistic Regression model using `scikit-learn`.\n",
        "\n",
        "First, you will see the model with some random hyperparameter values. Then you will build two other Logistic Regression models with two different strategies - **Grid search** and **Random search**."
      ]
    },
    {
      "cell_type": "code",
      "metadata": {
        "id": "atjvUDRBeP7h"
      },
      "source": [
        "# Split dataset into inputs and outputs\n",
        "values = data.values\n",
        "X = values[:,0:8]\n",
        "y = values[:,8]\n",
        "\n",
        "# Initiate the LR model with random hyperparameters\n",
        "lr = LogisticRegression(penalty='l2',dual=False,max_iter=110)"
      ],
      "execution_count": null,
      "outputs": []
    },
    {
      "cell_type": "markdown",
      "metadata": {
        "id": "TgmnMh_0eP7j"
      },
      "source": [
        "You have created the Logistic Regression model with some random hyperparameter values. The hyperparameters that you used are:\n",
        "\n",
        "- `penalty`: Used to specify the norm used in the penalization ([regularization](https://towardsdatascience.com/regularization-in-machine-learning-76441ddcf99a)).\n",
        "- `dual`: Dual or primal formulation. The dual formulation is only implemented for l2 penalty with liblinear solver. Prefer dual=False when n_samples > n_features (when you have more observations than features).\n",
        "- `max_iter`: Maximum number of iterations taken to converge.\n",
        "\n",
        "Later in the case study, you will optimize/tune these hyperparameters so see the change in the results.\n",
        "\n",
        "__NOTE__: in this tutorial, our main purpose is to optimize hyperparameters - hence we did not split the data into training/testing. But you should always split your data. However later on we applied K-fold cross validation to ensure the model(s) is not overfitted."
      ]
    },
    {
      "cell_type": "code",
      "metadata": {
        "id": "8ojQ-l7meP7j",
        "colab": {
          "base_uri": "https://localhost:8080/",
          "height": 75
        },
        "outputId": "185fedaa-a953-4b4e-8987-d6aa740324cf"
      },
      "source": [
        "# Pass data to the LR model\n",
        "lr.fit(X,y)"
      ],
      "execution_count": null,
      "outputs": [
        {
          "output_type": "execute_result",
          "data": {
            "text/plain": [
              "LogisticRegression(max_iter=110)"
            ],
            "text/html": [
              "<style>#sk-container-id-1 {color: black;background-color: white;}#sk-container-id-1 pre{padding: 0;}#sk-container-id-1 div.sk-toggleable {background-color: white;}#sk-container-id-1 label.sk-toggleable__label {cursor: pointer;display: block;width: 100%;margin-bottom: 0;padding: 0.3em;box-sizing: border-box;text-align: center;}#sk-container-id-1 label.sk-toggleable__label-arrow:before {content: \"▸\";float: left;margin-right: 0.25em;color: #696969;}#sk-container-id-1 label.sk-toggleable__label-arrow:hover:before {color: black;}#sk-container-id-1 div.sk-estimator:hover label.sk-toggleable__label-arrow:before {color: black;}#sk-container-id-1 div.sk-toggleable__content {max-height: 0;max-width: 0;overflow: hidden;text-align: left;background-color: #f0f8ff;}#sk-container-id-1 div.sk-toggleable__content pre {margin: 0.2em;color: black;border-radius: 0.25em;background-color: #f0f8ff;}#sk-container-id-1 input.sk-toggleable__control:checked~div.sk-toggleable__content {max-height: 200px;max-width: 100%;overflow: auto;}#sk-container-id-1 input.sk-toggleable__control:checked~label.sk-toggleable__label-arrow:before {content: \"▾\";}#sk-container-id-1 div.sk-estimator input.sk-toggleable__control:checked~label.sk-toggleable__label {background-color: #d4ebff;}#sk-container-id-1 div.sk-label input.sk-toggleable__control:checked~label.sk-toggleable__label {background-color: #d4ebff;}#sk-container-id-1 input.sk-hidden--visually {border: 0;clip: rect(1px 1px 1px 1px);clip: rect(1px, 1px, 1px, 1px);height: 1px;margin: -1px;overflow: hidden;padding: 0;position: absolute;width: 1px;}#sk-container-id-1 div.sk-estimator {font-family: monospace;background-color: #f0f8ff;border: 1px dotted black;border-radius: 0.25em;box-sizing: border-box;margin-bottom: 0.5em;}#sk-container-id-1 div.sk-estimator:hover {background-color: #d4ebff;}#sk-container-id-1 div.sk-parallel-item::after {content: \"\";width: 100%;border-bottom: 1px solid gray;flex-grow: 1;}#sk-container-id-1 div.sk-label:hover label.sk-toggleable__label {background-color: #d4ebff;}#sk-container-id-1 div.sk-serial::before {content: \"\";position: absolute;border-left: 1px solid gray;box-sizing: border-box;top: 0;bottom: 0;left: 50%;z-index: 0;}#sk-container-id-1 div.sk-serial {display: flex;flex-direction: column;align-items: center;background-color: white;padding-right: 0.2em;padding-left: 0.2em;position: relative;}#sk-container-id-1 div.sk-item {position: relative;z-index: 1;}#sk-container-id-1 div.sk-parallel {display: flex;align-items: stretch;justify-content: center;background-color: white;position: relative;}#sk-container-id-1 div.sk-item::before, #sk-container-id-1 div.sk-parallel-item::before {content: \"\";position: absolute;border-left: 1px solid gray;box-sizing: border-box;top: 0;bottom: 0;left: 50%;z-index: -1;}#sk-container-id-1 div.sk-parallel-item {display: flex;flex-direction: column;z-index: 1;position: relative;background-color: white;}#sk-container-id-1 div.sk-parallel-item:first-child::after {align-self: flex-end;width: 50%;}#sk-container-id-1 div.sk-parallel-item:last-child::after {align-self: flex-start;width: 50%;}#sk-container-id-1 div.sk-parallel-item:only-child::after {width: 0;}#sk-container-id-1 div.sk-dashed-wrapped {border: 1px dashed gray;margin: 0 0.4em 0.5em 0.4em;box-sizing: border-box;padding-bottom: 0.4em;background-color: white;}#sk-container-id-1 div.sk-label label {font-family: monospace;font-weight: bold;display: inline-block;line-height: 1.2em;}#sk-container-id-1 div.sk-label-container {text-align: center;}#sk-container-id-1 div.sk-container {/* jupyter's `normalize.less` sets `[hidden] { display: none; }` but bootstrap.min.css set `[hidden] { display: none !important; }` so we also need the `!important` here to be able to override the default hidden behavior on the sphinx rendered scikit-learn.org. See: https://github.com/scikit-learn/scikit-learn/issues/21755 */display: inline-block !important;position: relative;}#sk-container-id-1 div.sk-text-repr-fallback {display: none;}</style><div id=\"sk-container-id-1\" class=\"sk-top-container\"><div class=\"sk-text-repr-fallback\"><pre>LogisticRegression(max_iter=110)</pre><b>In a Jupyter environment, please rerun this cell to show the HTML representation or trust the notebook. <br />On GitHub, the HTML representation is unable to render, please try loading this page with nbviewer.org.</b></div><div class=\"sk-container\" hidden><div class=\"sk-item\"><div class=\"sk-estimator sk-toggleable\"><input class=\"sk-toggleable__control sk-hidden--visually\" id=\"sk-estimator-id-1\" type=\"checkbox\" checked><label for=\"sk-estimator-id-1\" class=\"sk-toggleable__label sk-toggleable__label-arrow\">LogisticRegression</label><div class=\"sk-toggleable__content\"><pre>LogisticRegression(max_iter=110)</pre></div></div></div></div></div>"
            ]
          },
          "metadata": {},
          "execution_count": 10
        }
      ]
    },
    {
      "cell_type": "markdown",
      "metadata": {
        "id": "0lbaUEQPeP7n"
      },
      "source": [
        "It's time to check the __accuracy__ score."
      ]
    },
    {
      "cell_type": "code",
      "metadata": {
        "id": "9RK_jwZHeP7n",
        "colab": {
          "base_uri": "https://localhost:8080/"
        },
        "outputId": "4c2352e7-27c0-48d1-8ce8-55008411525d"
      },
      "source": [
        "lr.score(X,y)"
      ],
      "execution_count": null,
      "outputs": [
        {
          "output_type": "execute_result",
          "data": {
            "text/plain": [
              "0.78125"
            ]
          },
          "metadata": {},
          "execution_count": 11
        }
      ]
    },
    {
      "cell_type": "markdown",
      "metadata": {
        "id": "6nblf6tjeP7p"
      },
      "source": [
        "In the above step, you applied your LR model to the same data and evaluated its score. But there is always a need to validate the stability of your machine learning model. You just can’t fit the model to your training data and hope it would accurately work for the real data it has never seen before. You need some kind of assurance that your model has got most of the patterns from the data correct.\n",
        "\n",
        "Well, Cross-validation is there for rescue. I will not go into the details of it as it is out of the scope of this blog. But [this post](https://towardsdatascience.com/cross-validation-in-machine-learning-72924a69872f) does a very fine job."
      ]
    },
    {
      "cell_type": "code",
      "metadata": {
        "id": "c1f9BuLteP7p"
      },
      "source": [
        "# You will need the following dependencies for applying Cross-validation and evaluating the cross-validated score\n",
        "\n",
        "from sklearn.model_selection import KFold\n",
        "from sklearn.model_selection import cross_val_score\n",
        "\n",
        "# Build the k-fold cross-validator\n",
        "\n",
        "kfold = KFold(n_splits=3, random_state=2023,shuffle=True)"
      ],
      "execution_count": null,
      "outputs": []
    },
    {
      "cell_type": "markdown",
      "metadata": {
        "id": "gBvBMSWAeP7r"
      },
      "source": [
        "You supplied `n_splits` as `3`, which essentially makes it a 3-fold cross-validation.\n",
        "\n",
        "__NOTE__: this is because that you have a limited-sized dataset.\n",
        "\n",
        "You also supplied `random_state` as $2020$. This is just to reproduce the results. You could have supplied any integer value as well.\n",
        "\n",
        "__NOTE__: you should always ensure the __reproducibility__ of your data analysis.\n",
        "\n",
        "Now, let's apply this."
      ]
    },
    {
      "cell_type": "code",
      "metadata": {
        "id": "rzqSoWjZeP7s",
        "colab": {
          "base_uri": "https://localhost:8080/"
        },
        "outputId": "97b2c837-172e-4ae4-ccab-452b2667a689"
      },
      "source": [
        "result = cross_val_score(lr, X, y, cv=kfold, scoring='accuracy')\n",
        "print(result.mean())"
      ],
      "execution_count": null,
      "outputs": [
        {
          "output_type": "stream",
          "name": "stdout",
          "text": [
            "0.7643229166666666\n"
          ]
        }
      ]
    },
    {
      "cell_type": "markdown",
      "metadata": {
        "id": "8ASExQk1eP7u"
      },
      "source": [
        "You can see there's a slight decrease in the score. This is because you are usng less (**66%**) of your data to train the model. Anyway, you can do better with hyperparameter tuning/optimization.\n",
        "\n",
        "Let's build another LR model, but this time its hyperparameter will be tuned. You will first do this grid search.\n",
        "\n",
        "Let's first import the dependencies you will need. Scikit-learn provides a utility called `GridSearchCV` for this."
      ]
    },
    {
      "cell_type": "code",
      "metadata": {
        "id": "1lrxuvC-eP7u"
      },
      "source": [
        "from sklearn.model_selection import GridSearchCV"
      ],
      "execution_count": null,
      "outputs": []
    },
    {
      "cell_type": "markdown",
      "metadata": {
        "id": "rz6jUCAheP7w"
      },
      "source": [
        "Let's define the grid values of the hyperparameters that you used above."
      ]
    },
    {
      "cell_type": "code",
      "metadata": {
        "id": "qnUT4-gHeP7w"
      },
      "source": [
        "dual=[True,False]\n",
        "max_iter=[100,110,120,130,140]\n",
        "param_grid = dict(dual=dual,max_iter=max_iter)"
      ],
      "execution_count": null,
      "outputs": []
    },
    {
      "cell_type": "markdown",
      "metadata": {
        "id": "CStvUzKleP7y"
      },
      "source": [
        "You have defined the grid. Let's run the grid search over them and see the results with execution time."
      ]
    },
    {
      "cell_type": "code",
      "metadata": {
        "id": "YZSstD2peP7y",
        "colab": {
          "base_uri": "https://localhost:8080/"
        },
        "outputId": "54bd121b-68a2-47a0-f024-ed4080d967a5"
      },
      "source": [
        "import time\n",
        "\n",
        "lr = LogisticRegression(penalty='l2')\n",
        "grid = GridSearchCV(estimator=lr, param_grid=param_grid, cv = 3, n_jobs=-1)\n",
        "\n",
        "start_time = time.time()\n",
        "grid_result = grid.fit(X, y)\n",
        "# Summarize results\n",
        "print(\"Best: %f using %s\" % (grid_result.best_score_, grid_result.best_params_))\n",
        "print(\"Execution time: \" + str((time.time() - start_time)) + ' ms')"
      ],
      "execution_count": null,
      "outputs": [
        {
          "output_type": "stream",
          "name": "stdout",
          "text": [
            "Best: 0.772135 using {'dual': False, 'max_iter': 100}\n",
            "Execution time: 1.6101405620574951 ms\n"
          ]
        }
      ]
    },
    {
      "cell_type": "markdown",
      "metadata": {
        "id": "iW-ATr6IeP71"
      },
      "source": [
        "Oh-no! The results decreased again! Does that mean we are totally off track? Rest assured, this only means that the current grid does not contain the optimal set.\n",
        "\n",
        "You can define a larger grid of hyperparameter as well and apply grid search."
      ]
    },
    {
      "cell_type": "code",
      "metadata": {
        "id": "xWqeIwKWeP73",
        "colab": {
          "base_uri": "https://localhost:8080/"
        },
        "outputId": "a489a2d3-8be0-4b0c-adc1-1fd5baa74eae"
      },
      "source": [
        "lr = LogisticRegression(penalty='l2')\n",
        "grid = GridSearchCV(estimator=lr, param_grid=param_grid, cv = 3, n_jobs=-1)\n",
        "\n",
        "start_time = time.time()\n",
        "grid_result = grid.fit(X, y)\n",
        "# Summarize results\n",
        "print(\"Best: %f using %s\" % (grid_result.best_score_, grid_result.best_params_))\n",
        "print(\"Execution time: \" + str((time.time() - start_time)) + ' ms')"
      ],
      "execution_count": null,
      "outputs": [
        {
          "output_type": "stream",
          "name": "stdout",
          "text": [
            "Best: 0.772135 using {'dual': False, 'max_iter': 100}\n",
            "Execution time: 0.3673086166381836 ms\n"
          ]
        }
      ]
    },
    {
      "cell_type": "markdown",
      "metadata": {
        "id": "4790gPtieP75"
      },
      "source": [
        "You can see an increase in the accuracy score, but there is a sufficient amount of growth in the execution time as well. **The larger the grid, the more execution time**.\n",
        "\n",
        "Let's rerun everything but this time with the random search. Scikit-learn provides `RandomSearchCV` to do that. As usual, you will have to import the necessary dependencies for that."
      ]
    },
    {
      "cell_type": "code",
      "metadata": {
        "id": "RJSfiUpKeP75"
      },
      "source": [
        "from sklearn.model_selection import RandomizedSearchCV"
      ],
      "execution_count": null,
      "outputs": []
    },
    {
      "cell_type": "code",
      "metadata": {
        "id": "0W_rzotZkmuP"
      },
      "source": [
        "import numpy as np\n",
        "np.random.seed(7)\n",
        "max_iter1 = np.random.randint(100, 200, 50)\n",
        "C1 = np.random.uniform(0, 5, 50)\n",
        "param_grid1 = dict(dual=dual,max_iter=max_iter1,C=C1)"
      ],
      "execution_count": null,
      "outputs": []
    },
    {
      "cell_type": "code",
      "metadata": {
        "id": "38jovF-peP77",
        "colab": {
          "base_uri": "https://localhost:8080/"
        },
        "outputId": "e097f89c-f4c9-48d7-e008-ef0f15c28a34"
      },
      "source": [
        "random = RandomizedSearchCV(estimator=lr, param_distributions=param_grid1, cv = 3, n_jobs=-1)\n",
        "\n",
        "start_time = time.time()\n",
        "random_result = random.fit(X, y)\n",
        "# Summarize results\n",
        "print(\"Best: %f using %s\" % (random_result.best_score_, random_result.best_params_))\n",
        "print(\"Execution time: \" + str((time.time() - start_time)) + ' ms')"
      ],
      "execution_count": null,
      "outputs": [
        {
          "output_type": "stream",
          "name": "stdout",
          "text": [
            "Best: 0.773438 using {'max_iter': 125, 'dual': False, 'C': 4.7699570303085705}\n",
            "Execution time: 0.28014087677001953 ms\n"
          ]
        }
      ]
    },
    {
      "cell_type": "markdown",
      "metadata": {
        "id": "qlfHzpg4eP79"
      },
      "source": [
        "Woah! The random search yielded the same accuracy but in a much lesser time.\n",
        "\n",
        "#### YOUR TURN HERE\n",
        "Please check the [docs](https://scikit-learn.org/stable/modules/generated/sklearn.model_selection.RandomizedSearchCV.html) for `RandomSearchCV`, for the purpose of understanding why we set `n_jobs` to `-1`.\n",
        "\n",
        "Also, please list any other random search parameters that you found interesting in the docs."
      ]
    },
    {
      "cell_type": "markdown",
      "metadata": {
        "id": "gXo2MjeZeP79"
      },
      "source": [
        "Double click and type your answer here."
      ]
    },
    {
      "cell_type": "markdown",
      "metadata": {
        "id": "_effwwSMeP79"
      },
      "source": [
        "That is all for the case study part. Now, let's wrap things up!\n",
        "\n",
        "## Conclusion and further reading:\n",
        "In this tutorial, you learned about parameters and hyperparameters of a machine learning model and their differences as well. You also got to know about what role hyperparameter optimization plays in building efficient machine learning models. You built a simple Logistic Regression classifier in Python with the help of scikit-learn.\n",
        "\n",
        "You tuned the hyperparameters with grid search and random search and saw which one performs better.\n",
        "\n",
        "Besides, you saw small data preprocessing steps (like handling missing values) that are required before you feed your data into the machine learning model. You covered Cross-validation as well.\n",
        "\n",
        "That is a lot to take in, and all of them are equally important in your data science journey. I will leave you with some further readings that you can do.\n",
        "\n",
        "Further readings:\n",
        "\n",
        "- [Problems in hyperparameter optimization](https://blog.sigopt.com/posts/common-problems-in-hyperparameter-optimization)\n",
        "- [Hyperparameter optimization with soft computing techniques](https://papers.nips.cc/paper/4443-algorithms-for-hyper-parameter-optimization.pdf)\n",
        "- [Random Search for Hyper-Parameter Optimization](http://www.jmlr.org/papers/volume13/bergstra12a/bergstra12a.pdf)\n",
        "\n",
        "For the ones who are a bit more advanced, I would highly recommend reading this paper for effectively [optimizing the hyperparameters of neural networks](https://arxiv.org/abs/1803.09820)."
      ]
    },
    {
      "cell_type": "markdown",
      "metadata": {
        "id": "_E4PJ0TOhFtX"
      },
      "source": [
        "# Bonus Content: Introducing the Implementation of a Pipeline\n",
        "\n",
        "We have been using the concept of a __pipeline__ frequently in this class. A __pipeline__ refers to a sequence of tasks covering one or more phases in [CRISP-DM](http://www.proglobalbusinesssolutions.com/six-steps-in-crisp-dm-the-standard-data-mining-process/).\n",
        "\n",
        "Even though we embraced the idea of pipelines, we have not formally implemented the idea of a pipeline in `sklearn`. The implementation so far from us is basically stacking different steps together.\n",
        "\n",
        "For instance, we observe that the dataset used in this tutorial contains `NaN` values, we will need to __impute__ them.  Additionally, since the data is not at the same range, natrually we would like to __scale__ the data.  After these steps, we want to perform __grid search__ (with cross validation) on the __logistic regression model__ to find the optimal hyperparameter. Then we __build the best model__ with the optimal hyperparameter settings to get the results.\n",
        "\n",
        "So, the aforementioned steps form a pipeline like below:\n",
        "```\n",
        "INPUT: Raw Data\n",
        "---------------\n",
        "STEP 1: SimpleImputer\n",
        "STEP 2: StandardScaler\n",
        "STEP 3: GridSearchCV + LogisticRegression\n",
        "STEP 4: LogisticRegression.predict\n",
        "----------------\n",
        "OUTPUT: Model Evaluation Results\n",
        "```\n",
        "As of now, we would implement the pipeline like this.\n"
      ]
    },
    {
      "cell_type": "code",
      "metadata": {
        "id": "N-_UM7HJeP7-"
      },
      "source": [
        "data_copy = data.copy()\n",
        "values = data_copy.values\n",
        "X = values[:,0:8]\n",
        "y = values[:,8]"
      ],
      "execution_count": null,
      "outputs": []
    },
    {
      "cell_type": "code",
      "metadata": {
        "id": "h2QQdpdszgsc"
      },
      "source": [
        "# imputation\n",
        "from sklearn.impute import SimpleImputer\n",
        "imputer = SimpleImputer(missing_values=np.nan, strategy='mean')\n",
        "imputedData = imputer.fit_transform(X)"
      ],
      "execution_count": null,
      "outputs": []
    },
    {
      "cell_type": "code",
      "metadata": {
        "id": "tbb1cGNtz_VY"
      },
      "source": [
        "# scaling\n",
        "from sklearn.preprocessing import StandardScaler\n",
        "scaler = StandardScaler()\n",
        "scaledData = scaler.fit_transform(imputedData)"
      ],
      "execution_count": null,
      "outputs": []
    },
    {
      "cell_type": "code",
      "metadata": {
        "id": "D11XCz040Oq5",
        "colab": {
          "base_uri": "https://localhost:8080/"
        },
        "outputId": "37bffb56-b95b-4639-83b5-4ecb1e89bbf1"
      },
      "source": [
        "# grid search\n",
        "# hyper parameters\n",
        "dual=[True,False]\n",
        "max_iter=[100,110,120,130,140]\n",
        "C = [1.0,1.5,2.0,2.5]\n",
        "param_grid = dict(dual=dual,max_iter=max_iter,C=C)\n",
        "\n",
        "lr = LogisticRegression(penalty='l2')\n",
        "grid = GridSearchCV(estimator=lr, param_grid=param_grid, cv = 3, n_jobs=-1)\n",
        "\n",
        "grid_result = grid.fit(scaledData, y)\n",
        "# Summarize results\n",
        "print(\"Best: %f using %s\" % (grid_result.best_score_, grid_result.best_params_))"
      ],
      "execution_count": null,
      "outputs": [
        {
          "output_type": "stream",
          "name": "stdout",
          "text": [
            "Best: 0.770833 using {'C': 1.0, 'dual': False, 'max_iter': 100}\n"
          ]
        }
      ]
    },
    {
      "cell_type": "markdown",
      "metadata": {
        "id": "yNHZlUyS0_J8"
      },
      "source": [
        "We just saw this process in the main body of the tutorial. The only step left is to __fit__ and __evaluate__ the best model. If you have questions about this step, refer to the `Cross Validation in Python` tutorial from last week."
      ]
    },
    {
      "cell_type": "code",
      "metadata": {
        "id": "p3CRAQyn06s6",
        "colab": {
          "base_uri": "https://localhost:8080/"
        },
        "outputId": "9330b427-c67b-4ba3-e84e-f985cf344c94"
      },
      "source": [
        "# fit & evaluate best model\n",
        "from sklearn.model_selection import cross_val_score, RepeatedKFold\n",
        "lr_best = LogisticRegression(C=1.0, dual=False, max_iter=100)\n",
        "rkf = RepeatedKFold(n_splits=10, n_repeats=5, random_state=2020)\n",
        "f1_scores_cv = cross_val_score(lr_best, scaledData, y, scoring='f1', cv=rkf)\n",
        "roc_auc_cv = cross_val_score(lr_best, scaledData, y, scoring='roc_auc', cv=rkf)\n",
        "\n",
        "print(\"model bias (f1-score):\", 1-f1_scores_cv.mean())\n",
        "print(\"model variance (f1-score):\", f1_scores_cv.std())\n",
        "print(\"model bias (ROC/AUC):\", 1-roc_auc_cv.mean())\n",
        "print(\"model variance (ROC/AUC):\", roc_auc_cv.std())"
      ],
      "execution_count": null,
      "outputs": [
        {
          "output_type": "stream",
          "name": "stdout",
          "text": [
            "model bias (f1-score): 0.36391910630470714\n",
            "model variance (f1-score): 0.07571402358219778\n",
            "model bias (ROC/AUC): 0.16630990314573846\n",
            "model variance (ROC/AUC): 0.04144636306620658\n"
          ]
        }
      ]
    },
    {
      "cell_type": "markdown",
      "metadata": {
        "id": "KGmkQrJf3bfj"
      },
      "source": [
        "To prove that this is the best hyperparameter setting, we can create a model for compare."
      ]
    },
    {
      "cell_type": "code",
      "metadata": {
        "id": "_E-ccMbZ2esL",
        "colab": {
          "base_uri": "https://localhost:8080/"
        },
        "outputId": "68e434d3-24bc-4232-873a-91fcfc16aaf4"
      },
      "source": [
        "# model for compare\n",
        "lr_comp = LogisticRegression(C=0.1, dual=False, max_iter=50)\n",
        "f1_scores_comp = cross_val_score(lr_comp, scaledData, y, scoring='f1', cv=rkf)\n",
        "roc_auc_comp = cross_val_score(lr_comp, scaledData, y, scoring='roc_auc', cv=rkf)\n",
        "\n",
        "print(\"model bias (f1-score):\", 1-f1_scores_comp.mean())\n",
        "print(\"model bias (ROC/AUC):\", 1-roc_auc_comp.mean())"
      ],
      "execution_count": null,
      "outputs": [
        {
          "output_type": "stream",
          "name": "stdout",
          "text": [
            "model bias (f1-score): 0.3760835702146562\n",
            "model bias (ROC/AUC): 0.16552389435562342\n"
          ]
        }
      ]
    },
    {
      "cell_type": "markdown",
      "metadata": {
        "id": "WOPLd23e5BM-"
      },
      "source": [
        "Since we have `50` values in both model evaluation results, we can perform the _t-test_ for comparison purpose.\n",
        "\n",
        "The function below (original code from [here](https://towardsdatascience.com/inferential-statistics-series-t-test-using-numpy-2718f8f9bf2f)) returns the _t-test_ results."
      ]
    },
    {
      "cell_type": "code",
      "metadata": {
        "id": "Baf4RrD_4aob"
      },
      "source": [
        "from scipy import stats\n",
        "\n",
        "def my_t_test(a,b,size): # a, b are two arrays for comparison\n",
        "    n = size # size of the arrays\n",
        "\n",
        "    ## Calculate the Standard Deviation\n",
        "    var_a = a.var(ddof=1)\n",
        "    var_b = b.var(ddof=1)\n",
        "\n",
        "    #std deviation\n",
        "    s = np.sqrt((var_a + var_b)/2)\n",
        "\n",
        "    ## Calculate the t-statistics\n",
        "    t = (a.mean() - b.mean())/(s*np.sqrt(2/n))\n",
        "\n",
        "    ## Compare with the critical t-value\n",
        "    #Degrees of freedom\n",
        "    df = 2*n - 2\n",
        "\n",
        "    #p-value after comparison with the t\n",
        "    p = 1 - stats.t.cdf(t,df=df)\n",
        "\n",
        "\n",
        "    # return(t, p)\n",
        "\n",
        "    if (abs(t) > 1.96) and p < 0.05:\n",
        "        return('mean of a and b are significantly different (reject H0)')\n",
        "    else:\n",
        "        return('mean of a and b are not significantly different (not reject H0)')"
      ],
      "execution_count": null,
      "outputs": []
    },
    {
      "cell_type": "code",
      "metadata": {
        "id": "GfHTpdAr6R39",
        "colab": {
          "base_uri": "https://localhost:8080/",
          "height": 35
        },
        "outputId": "a0c9359b-ea43-4fa2-cbc6-f93bb99e73e6"
      },
      "source": [
        "my_t_test(f1_scores_cv, f1_scores_comp, 50)"
      ],
      "execution_count": null,
      "outputs": [
        {
          "output_type": "execute_result",
          "data": {
            "text/plain": [
              "'mean of a and b are not significantly different (not reject H0)'"
            ],
            "application/vnd.google.colaboratory.intrinsic+json": {
              "type": "string"
            }
          },
          "metadata": {},
          "execution_count": 29
        }
      ]
    },
    {
      "cell_type": "code",
      "metadata": {
        "id": "BqqGEZQR6W7e",
        "colab": {
          "base_uri": "https://localhost:8080/",
          "height": 35
        },
        "outputId": "292ca151-ceb1-4558-e587-75b0637714e4"
      },
      "source": [
        "my_t_test(roc_auc_cv, roc_auc_comp, 50)"
      ],
      "execution_count": null,
      "outputs": [
        {
          "output_type": "execute_result",
          "data": {
            "text/plain": [
              "'mean of a and b are not significantly different (not reject H0)'"
            ],
            "application/vnd.google.colaboratory.intrinsic+json": {
              "type": "string"
            }
          },
          "metadata": {},
          "execution_count": 30
        }
      ]
    },
    {
      "cell_type": "markdown",
      "metadata": {
        "id": "VIHF7pT47E_0"
      },
      "source": [
        "Above results prove that the \"best\" model is not significantly different from a random model we create for comparison. And the last part (__model evaluation and comparison__) ties back to the tutorial from last week.\n",
        "\n",
        "`sklearn` formally support the idea of pipelines, we can easily combine STEPs 1 - 3 in a pipeline."
      ]
    },
    {
      "cell_type": "code",
      "metadata": {
        "id": "A3Y-44lh6cGH",
        "colab": {
          "base_uri": "https://localhost:8080/"
        },
        "outputId": "6df221f5-b09d-4e3b-f35d-42aa51638d72"
      },
      "source": [
        "from sklearn.pipeline import make_pipeline\n",
        "# STEP 1 - 3\n",
        "best_pipeline = make_pipeline(imputer, # STEP 1\n",
        "                    scaler, # STEP 2\n",
        "                    GridSearchCV(LogisticRegression(penalty='l2'),\n",
        "                                 param_grid=param_grid,\n",
        "                                 cv=3)) # STEP 3\n",
        "\n",
        "# STEP 4\n",
        "f1_scores_pp = cross_val_score(best_pipeline, scaledData, y, scoring='f1', cv=rkf)\n",
        "roc_auc_pp = cross_val_score(best_pipeline, scaledData, y, scoring='roc_auc', cv=rkf)\n",
        "\n",
        "print(\"model bias (f1-score):\", 1-f1_scores_pp.mean())\n",
        "print(\"model variance (f1-score):\", f1_scores_pp.std())\n",
        "print(\"model bias (ROC/AUC):\", 1-roc_auc_pp.mean())\n",
        "print(\"model variance (ROC/AUC):\", roc_auc_pp.std())"
      ],
      "execution_count": null,
      "outputs": [
        {
          "output_type": "stream",
          "name": "stdout",
          "text": [
            "model bias (f1-score): 0.3688717077786241\n",
            "model variance (f1-score): 0.07077199665529102\n",
            "model bias (ROC/AUC): 0.1616748011308844\n",
            "model variance (ROC/AUC): 0.04031707644766859\n"
          ]
        }
      ]
    },
    {
      "cell_type": "markdown",
      "metadata": {
        "id": "iyYZOT46-K3U"
      },
      "source": [
        "See how elegant your pipeline can be? You can even incorporate your custom functions in there.\n",
        "\n",
        "Hopefully this part is helpful when you put together your pipelines."
      ]
    },
    {
      "cell_type": "code",
      "source": [],
      "metadata": {
        "id": "5nKvdlBNfXf5"
      },
      "execution_count": null,
      "outputs": []
    }
  ]
}